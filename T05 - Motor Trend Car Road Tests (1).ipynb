{
 "cells": [
  {
   "cell_type": "markdown",
   "id": "f734075e-1d9b-4ea3-b1a2-d02779b4918d",
   "metadata": {},
   "source": [
    "**1.1**\n",
    "Realiza una regresión tomando 'mpg' como salida y eliminando la columna 'model'. Considera todos los demás factores como numéricos/ordinales.\n",
    "- Calcula el R2 e interpreta los signos de los betas.\n",
    "- Realiza un train-test-split donde se use el 40% de los datos para entrenar. Calcula el R2 de entrenamiento y de prueba.\n",
    "- Añade regularización L2 con un hiperparámetro lambda decidido por ti. Cambia este valor y compara con varios distintos los R2 de -entrenamiento y de prueba."
   ]
  },
  {
   "cell_type": "code",
   "execution_count": 70,
   "id": "f15b28ea-f6a9-4473-844d-548546e934fe",
   "metadata": {},
   "outputs": [
    {
     "data": {
      "text/html": [
       "<div>\n",
       "<style scoped>\n",
       "    .dataframe tbody tr th:only-of-type {\n",
       "        vertical-align: middle;\n",
       "    }\n",
       "\n",
       "    .dataframe tbody tr th {\n",
       "        vertical-align: top;\n",
       "    }\n",
       "\n",
       "    .dataframe thead th {\n",
       "        text-align: right;\n",
       "    }\n",
       "</style>\n",
       "<table border=\"1\" class=\"dataframe\">\n",
       "  <thead>\n",
       "    <tr style=\"text-align: right;\">\n",
       "      <th></th>\n",
       "      <th>model</th>\n",
       "      <th>mpg</th>\n",
       "      <th>cyl</th>\n",
       "      <th>disp</th>\n",
       "      <th>hp</th>\n",
       "      <th>drat</th>\n",
       "      <th>wt</th>\n",
       "      <th>qsec</th>\n",
       "      <th>vs</th>\n",
       "      <th>am</th>\n",
       "      <th>gear</th>\n",
       "      <th>carb</th>\n",
       "    </tr>\n",
       "  </thead>\n",
       "  <tbody>\n",
       "    <tr>\n",
       "      <th>0</th>\n",
       "      <td>Mazda RX4</td>\n",
       "      <td>21.0</td>\n",
       "      <td>6</td>\n",
       "      <td>160.0</td>\n",
       "      <td>110</td>\n",
       "      <td>3.90</td>\n",
       "      <td>2.620</td>\n",
       "      <td>16.46</td>\n",
       "      <td>0</td>\n",
       "      <td>1</td>\n",
       "      <td>4</td>\n",
       "      <td>4</td>\n",
       "    </tr>\n",
       "    <tr>\n",
       "      <th>1</th>\n",
       "      <td>Mazda RX4 Wag</td>\n",
       "      <td>21.0</td>\n",
       "      <td>6</td>\n",
       "      <td>160.0</td>\n",
       "      <td>110</td>\n",
       "      <td>3.90</td>\n",
       "      <td>2.875</td>\n",
       "      <td>17.02</td>\n",
       "      <td>0</td>\n",
       "      <td>1</td>\n",
       "      <td>4</td>\n",
       "      <td>4</td>\n",
       "    </tr>\n",
       "    <tr>\n",
       "      <th>2</th>\n",
       "      <td>Datsun 710</td>\n",
       "      <td>22.8</td>\n",
       "      <td>4</td>\n",
       "      <td>108.0</td>\n",
       "      <td>93</td>\n",
       "      <td>3.85</td>\n",
       "      <td>2.320</td>\n",
       "      <td>18.61</td>\n",
       "      <td>1</td>\n",
       "      <td>1</td>\n",
       "      <td>4</td>\n",
       "      <td>1</td>\n",
       "    </tr>\n",
       "    <tr>\n",
       "      <th>3</th>\n",
       "      <td>Hornet 4 Drive</td>\n",
       "      <td>21.4</td>\n",
       "      <td>6</td>\n",
       "      <td>258.0</td>\n",
       "      <td>110</td>\n",
       "      <td>3.08</td>\n",
       "      <td>3.215</td>\n",
       "      <td>19.44</td>\n",
       "      <td>1</td>\n",
       "      <td>0</td>\n",
       "      <td>3</td>\n",
       "      <td>1</td>\n",
       "    </tr>\n",
       "    <tr>\n",
       "      <th>4</th>\n",
       "      <td>Hornet Sportabout</td>\n",
       "      <td>18.7</td>\n",
       "      <td>8</td>\n",
       "      <td>360.0</td>\n",
       "      <td>175</td>\n",
       "      <td>3.15</td>\n",
       "      <td>3.440</td>\n",
       "      <td>17.02</td>\n",
       "      <td>0</td>\n",
       "      <td>0</td>\n",
       "      <td>3</td>\n",
       "      <td>2</td>\n",
       "    </tr>\n",
       "  </tbody>\n",
       "</table>\n",
       "</div>"
      ],
      "text/plain": [
       "               model   mpg  cyl   disp   hp  drat     wt   qsec  vs  am  gear  \\\n",
       "0          Mazda RX4  21.0    6  160.0  110  3.90  2.620  16.46   0   1     4   \n",
       "1      Mazda RX4 Wag  21.0    6  160.0  110  3.90  2.875  17.02   0   1     4   \n",
       "2         Datsun 710  22.8    4  108.0   93  3.85  2.320  18.61   1   1     4   \n",
       "3     Hornet 4 Drive  21.4    6  258.0  110  3.08  3.215  19.44   1   0     3   \n",
       "4  Hornet Sportabout  18.7    8  360.0  175  3.15  3.440  17.02   0   0     3   \n",
       "\n",
       "   carb  \n",
       "0     4  \n",
       "1     4  \n",
       "2     1  \n",
       "3     1  \n",
       "4     2  "
      ]
     },
     "execution_count": 70,
     "metadata": {},
     "output_type": "execute_result"
    }
   ],
   "source": [
    "import pandas as pd\n",
    "import numpy as np\n",
    "from sklearn.model_selection import train_test_split\n",
    "from sklearn.preprocessing import StandardScaler\n",
    "from sklearn.linear_model import LinearRegression, Ridge\n",
    "from sklearn.metrics import r2_score\n",
    "import statsmodels.api as sm\n",
    "\n",
    "dataset = \"Motor Trend Car Road Tests (2).xlsx\"\n",
    "df = pd.read_excel(dataset)\n",
    "df.columns = [c.strip() for c in df.columns]\n",
    "df.head()\n"
   ]
  },
  {
   "cell_type": "code",
   "execution_count": 109,
   "id": "4188bc93-1915-4ba4-ac6e-4d3480ee44fb",
   "metadata": {},
   "outputs": [
    {
     "data": {
      "text/plain": [
       "((32, 10), (32,))"
      ]
     },
     "execution_count": 109,
     "metadata": {},
     "output_type": "execute_result"
    }
   ],
   "source": [
    "df = df.drop(columns=[c for c in df.columns if c.lower() == \"model\"], errors=\"ignore\")\n",
    "\n",
    "X_full = df.drop(columns=[\"mpg\"]).select_dtypes(include=[np.number])\n",
    "df_clean = df.dropna(subset=X_full.columns.tolist() + [\"mpg\"])\n",
    "X_full = df_clean.drop(columns=[\"mpg\"]).select_dtypes(include=[np.number])\n",
    "y_full = df_clean[\"mpg\"].astype(float)\n",
    "\n",
    "X_full.shape, y_full.shape"
   ]
  },
  {
   "cell_type": "code",
   "execution_count": 111,
   "id": "d2e616cd-4c4a-4b19-9b7f-4fdc2e2b4db4",
   "metadata": {},
   "outputs": [
    {
     "data": {
      "text/plain": [
       "(12, 20)"
      ]
     },
     "execution_count": 111,
     "metadata": {},
     "output_type": "execute_result"
    }
   ],
   "source": [
    "X_train, X_test, y_train, y_test = train_test_split(\n",
    "    X_full, y_full, train_size=0.40, random_state=42, shuffle=True\n",
    ")\n",
    "\n",
    "len(X_train), len(X_test)"
   ]
  },
  {
   "cell_type": "code",
   "execution_count": 198,
   "id": "398c59e4-9c6b-4699-8ed2-80e63a9f7261",
   "metadata": {},
   "outputs": [
    {
     "data": {
      "text/html": [
       "<div>\n",
       "<style scoped>\n",
       "    .dataframe tbody tr th:only-of-type {\n",
       "        vertical-align: middle;\n",
       "    }\n",
       "\n",
       "    .dataframe tbody tr th {\n",
       "        vertical-align: top;\n",
       "    }\n",
       "\n",
       "    .dataframe thead th {\n",
       "        text-align: right;\n",
       "    }\n",
       "</style>\n",
       "<table border=\"1\" class=\"dataframe\">\n",
       "  <thead>\n",
       "    <tr style=\"text-align: right;\">\n",
       "      <th></th>\n",
       "      <th>R2_train</th>\n",
       "      <th>R2_test</th>\n",
       "    </tr>\n",
       "  </thead>\n",
       "  <tbody>\n",
       "    <tr>\n",
       "      <th>0</th>\n",
       "      <td>0.998212</td>\n",
       "      <td>-7.107141</td>\n",
       "    </tr>\n",
       "  </tbody>\n",
       "</table>\n",
       "</div>"
      ],
      "text/plain": [
       "   R2_train   R2_test\n",
       "0  0.998212 -7.107141"
      ]
     },
     "execution_count": 198,
     "metadata": {},
     "output_type": "execute_result"
    }
   ],
   "source": [
    "scaler = StandardScaler()\n",
    "X_train_s = scaler.fit_transform(X_train)\n",
    "X_test_s  = scaler.transform(X_test)\n",
    "cols = X_train.columns\n",
    "\n",
    "ols = LinearRegression().fit(X_train_s, y_train)\n",
    "y_tr_hat_ols = ols.predict(X_train_s)\n",
    "y_te_hat_ols = ols.predict(X_test_s)\n",
    "r2_train_ols = r2_score(y_train, y_tr_hat_ols)\n",
    "r2_test_ols  = r2_score(y_test,  y_te_hat_ols)\n",
    "res_ols = pd.DataFrame(np.column_stack([[r2_train_ols], [r2_test_ols]]), columns=[\"R2_train\", \"R2_test\"])\n",
    "res_ols"
   ]
  },
  {
   "cell_type": "code",
   "execution_count": 200,
   "id": "e6eca4d5-ac5b-40b0-bf16-d05712068a15",
   "metadata": {},
   "outputs": [
    {
     "data": {
      "text/html": [
       "<div>\n",
       "<style scoped>\n",
       "    .dataframe tbody tr th:only-of-type {\n",
       "        vertical-align: middle;\n",
       "    }\n",
       "\n",
       "    .dataframe tbody tr th {\n",
       "        vertical-align: top;\n",
       "    }\n",
       "\n",
       "    .dataframe thead th {\n",
       "        text-align: right;\n",
       "    }\n",
       "</style>\n",
       "<table border=\"1\" class=\"dataframe\">\n",
       "  <thead>\n",
       "    <tr style=\"text-align: right;\">\n",
       "      <th></th>\n",
       "      <th>alpha</th>\n",
       "      <th>R2_train</th>\n",
       "      <th>R2_test</th>\n",
       "    </tr>\n",
       "  </thead>\n",
       "  <tbody>\n",
       "    <tr>\n",
       "      <th>0</th>\n",
       "      <td>0.1</td>\n",
       "      <td>0.983138</td>\n",
       "      <td>-0.506482</td>\n",
       "    </tr>\n",
       "    <tr>\n",
       "      <th>1</th>\n",
       "      <td>1.0</td>\n",
       "      <td>0.927481</td>\n",
       "      <td>0.651838</td>\n",
       "    </tr>\n",
       "    <tr>\n",
       "      <th>2</th>\n",
       "      <td>10.0</td>\n",
       "      <td>0.878923</td>\n",
       "      <td>0.800880</td>\n",
       "    </tr>\n",
       "    <tr>\n",
       "      <th>3</th>\n",
       "      <td>100.0</td>\n",
       "      <td>0.585232</td>\n",
       "      <td>0.671088</td>\n",
       "    </tr>\n",
       "    <tr>\n",
       "      <th>4</th>\n",
       "      <td>300.0</td>\n",
       "      <td>0.311403</td>\n",
       "      <td>0.349753</td>\n",
       "    </tr>\n",
       "  </tbody>\n",
       "</table>\n",
       "</div>"
      ],
      "text/plain": [
       "   alpha  R2_train   R2_test\n",
       "0    0.1  0.983138 -0.506482\n",
       "1    1.0  0.927481  0.651838\n",
       "2   10.0  0.878923  0.800880\n",
       "3  100.0  0.585232  0.671088\n",
       "4  300.0  0.311403  0.349753"
      ]
     },
     "execution_count": 200,
     "metadata": {},
     "output_type": "execute_result"
    }
   ],
   "source": [
    "betas_ols = pd.Series(ols.coef_, index=cols)\n",
    "betas_ols = betas_ols.reindex(betas_ols.abs().sort_values(ascending=False).index)\n",
    "signo_ols = [\"+\" if b >= 0 else \"-\" for b in betas_ols.values]\n",
    "tabla_betas_ols = pd.DataFrame(\n",
    "    np.column_stack([betas_ols.index.to_numpy(), betas_ols.values, np.array(signo_ols, dtype=object)]),\n",
    "    columns=[\"feature\", \"beta\", \"signo\"]\n",
    ")\n",
    "\n",
    "alphas = [0.1, 1.0, 10.0, 100.0, 300.0]\n",
    "a_list = []\n",
    "r2tr_list = []\n",
    "r2te_list = []\n",
    "for a in alphas:\n",
    "    rg = Ridge(alpha=a, fit_intercept=True, random_state=42).fit(X_train_s, y_train)\n",
    "    a_list.append(a)\n",
    "    r2tr_list.append(r2_score(y_train, rg.predict(X_train_s)))\n",
    "    r2te_list.append(r2_score(y_test,  rg.predict(X_test_s)))\n",
    "\n",
    "ridge_scores = pd.DataFrame(\n",
    "    np.column_stack([a_list, r2tr_list, r2te_list]),\n",
    "    columns=[\"alpha\", \"R2_train\", \"R2_test\"]\n",
    ")\n",
    "ridge_scores"
   ]
  },
  {
   "cell_type": "code",
   "execution_count": 117,
   "id": "67723581-eaeb-45ac-a642-c10c44852312",
   "metadata": {},
   "outputs": [],
   "source": [
    "best_idx = int(np.argmax(np.array(r2te_list)))\n",
    "best_alpha = a_list[best_idx]\n",
    "ridge_best = Ridge(alpha=best_alpha, fit_intercept=True, random_state=42).fit(X_train_s, y_train)\n",
    "betas_ridge = pd.Series(ridge_best.coef_, index=cols)\n",
    "betas_ridge = betas_ridge.reindex(betas_ridge.abs().sort_values(ascending=False).index)\n",
    "signo_ridge = [\"+\" if b >= 0 else \"-\" for b in betas_ridge.values]\n",
    "tabla_betas_ridge = pd.DataFrame(\n",
    "    np.column_stack([betas_ridge.index.to_numpy(), betas_ridge.values, np.array(signo_ridge, dtype=object)]),\n",
    "    columns=[\"feature\", \"beta_ridge\", \"signo\"]\n",
    ")"
   ]
  },
  {
   "cell_type": "code",
   "execution_count": 119,
   "id": "159433ae-d3cb-4a78-b9a0-70eb25c7466a",
   "metadata": {},
   "outputs": [
    {
     "data": {
      "text/plain": [
       "(   R2_train   R2_test\n",
       " 0  0.998212 -7.107141,\n",
       "   feature       beta signo\n",
       " 0      vs -12.988911     -\n",
       " 1      wt -10.159411     -\n",
       " 2    qsec   9.172667     +\n",
       " 3    carb   6.651356     +\n",
       " 4     cyl  -5.835217     -\n",
       " 5    drat  -3.606297     -\n",
       " 6    gear   2.480631     +\n",
       " 7      am   2.212592     +\n",
       " 8      hp  -2.164675     -\n",
       " 9    disp  -1.648889     -,\n",
       "    alpha  R2_train   R2_test\n",
       " 0    0.1  0.983138 -0.506482\n",
       " 1    1.0  0.927481  0.651838\n",
       " 2   10.0  0.878923  0.800880\n",
       " 3  100.0  0.585232  0.671088\n",
       " 4  300.0  0.311403  0.349753,\n",
       "   feature beta_ridge signo\n",
       " 0      wt  -1.307344     -\n",
       " 1      am    0.89179     +\n",
       " 2      hp  -0.866107     -\n",
       " 3    disp  -0.812825     -\n",
       " 4    carb  -0.802666     -\n",
       " 5     cyl  -0.760716     -\n",
       " 6    gear   0.628285     +\n",
       " 7      vs   0.522034     +\n",
       " 8    drat   0.497123     +\n",
       " 9    qsec   0.317899     +,\n",
       " <class 'statsmodels.iolib.summary.Summary'>\n",
       " \"\"\"\n",
       "                             OLS Regression Results                            \n",
       " ==============================================================================\n",
       " Dep. Variable:                    mpg   R-squared:                       0.869\n",
       " Model:                            OLS   Adj. R-squared:                  0.807\n",
       " Method:                 Least Squares   F-statistic:                     13.93\n",
       " Date:                Thu, 18 Sep 2025   Prob (F-statistic):           3.79e-07\n",
       " Time:                        19:20:03   Log-Likelihood:                -69.855\n",
       " No. Observations:                  32   AIC:                             161.7\n",
       " Df Residuals:                      21   BIC:                             177.8\n",
       " Df Model:                          10                                         \n",
       " Covariance Type:            nonrobust                                         \n",
       " ==============================================================================\n",
       "                  coef    std err          t      P>|t|      [0.025      0.975]\n",
       " ------------------------------------------------------------------------------\n",
       " const         20.0906      0.468     42.884      0.000      19.116      21.065\n",
       " cyl           -0.1959      1.837     -0.107      0.916      -4.016       3.624\n",
       " disp           1.6267      2.178      0.747      0.463      -2.903       6.157\n",
       " hp            -1.4497      1.469     -0.987      0.335      -4.505       1.605\n",
       " drat           0.4142      0.861      0.481      0.635      -1.376       2.204\n",
       " wt            -3.5780      1.824     -1.961      0.063      -7.372       0.216\n",
       " qsec           1.4440      1.285      1.123      0.274      -1.229       4.117\n",
       " vs             0.1576      1.044      0.151      0.881      -2.013       2.329\n",
       " am             1.2378      1.010      1.225      0.234      -0.863       3.338\n",
       " gear           0.4760      1.084      0.439      0.665      -1.779       2.731\n",
       " carb          -0.3170      1.318     -0.241      0.812      -3.057       2.423\n",
       " ==============================================================================\n",
       " Omnibus:                        1.907   Durbin-Watson:                   1.861\n",
       " Prob(Omnibus):                  0.385   Jarque-Bera (JB):                1.747\n",
       " Skew:                           0.521   Prob(JB):                        0.418\n",
       " Kurtosis:                       2.526   Cond. No.                         15.6\n",
       " ==============================================================================\n",
       " \n",
       " Notes:\n",
       " [1] Standard Errors assume that the covariance matrix of the errors is correctly specified.\n",
       " \"\"\")"
      ]
     },
     "execution_count": 119,
     "metadata": {},
     "output_type": "execute_result"
    }
   ],
   "source": [
    "Xc_all = sm.add_constant((X_full - X_full.mean())/X_full.std(ddof=0))\n",
    "ols_sm = sm.OLS(y_full, Xc_all).fit()\n",
    "\n",
    "res_ols, tabla_betas_ols, ridge_scores, tabla_betas_ridge, ols_sm.summary()"
   ]
  },
  {
   "cell_type": "markdown",
   "id": "27127da1-de0f-4074-a1f5-8f6d6850ba75",
   "metadata": {},
   "source": [
    "Interpretación: \n",
    "\n",
    "El modelo explica bien los datos que ya conoce r2 = 0.87, pero cuando se prueba con datos nuevos se equivoca mucho porque se “aprendió de memoria” en lugar de generalizar. Al usar Ridge, el modelo mejora y predice mejor con datos nuevos."
   ]
  },
  {
   "cell_type": "markdown",
   "id": "6cdcc7eb-91a6-4edf-b6b9-4376671fe895",
   "metadata": {},
   "source": [
    "**1.2** Repite el ejercicio anterior usando 'qsec' como salida."
   ]
  },
  {
   "cell_type": "code",
   "execution_count": 121,
   "id": "136e7e26-77db-46c2-8e8e-ef98d69bdb8b",
   "metadata": {},
   "outputs": [],
   "source": [
    "dataset = \"Motor Trend Car Road Tests (2).xlsx\"\n",
    "df = pd.read_excel(dataset)\n",
    "df.columns = [c.strip() for c in df.columns]\n",
    "df = df.drop(columns=[c for c in df.columns if c.lower() == \"model\"], errors=\"ignore\")\n",
    "\n",
    "\n",
    "y_12 = df[\"qsec\"].astype(float)\n",
    "X_12 = df.drop(columns=[\"qsec\"]).select_dtypes(include=[np.number])\n",
    "\n",
    "df12 = df.dropna(subset=X_12.columns.tolist() + [\"qsec\"])\n",
    "X_12 = df12.drop(columns=[\"qsec\"]).select_dtypes(include=[np.number])\n",
    "y_12 = df12[\"qsec\"].astype(float)"
   ]
  },
  {
   "cell_type": "code",
   "execution_count": 123,
   "id": "56aecbbf-2af6-497e-9894-5d08ec15575d",
   "metadata": {},
   "outputs": [],
   "source": [
    "Xtr12, Xte12, ytr12, yte12 = train_test_split(X_12, y_12, train_size=0.40, random_state=42, shuffle=True)\n",
    "sc12 = StandardScaler().fit(Xtr12)\n",
    "Xtr12s = sc12.transform(Xtr12)\n",
    "Xte12s  = sc12.transform(Xte12)"
   ]
  },
  {
   "cell_type": "code",
   "execution_count": 127,
   "id": "4e7b85d0-52cc-4306-919f-7bcfe837746b",
   "metadata": {},
   "outputs": [],
   "source": [
    "ols12 = LinearRegression().fit(Xtr12s, ytr12)\n",
    "ytr_hat_12 = ols12.predict(Xtr12s)\n",
    "yte_hat_12 = ols12.predict(Xte12s)\n",
    "r2tr12 = r2_score(ytr12, ytr_hat_12)\n",
    "r2te12 = r2_score(yte12, yte_hat_12)\n",
    "\n",
    "res_12_ols = pd.DataFrame(\n",
    "    np.column_stack([[r2tr12], [r2te12]]),\n",
    "    columns=[\"R2_train\", \"R2_test\"]\n",
    ")"
   ]
  },
  {
   "cell_type": "code",
   "execution_count": 129,
   "id": "62d87465-8735-42a0-9542-cb27cdf4e726",
   "metadata": {},
   "outputs": [],
   "source": [
    "betas_12 = pd.Series(ols12.coef_, index=Xtr12.columns)\n",
    "betas_12 = betas_12.reindex(betas_12.abs().sort_values(ascending=False).index)\n",
    "signos_12 = [\"+\" if b >= 0 else \"-\" for b in betas_12.values]\n",
    "\n",
    "tabla_betas_12 = pd.DataFrame(\n",
    "    np.column_stack([betas_12.index.to_numpy(), betas_12.values, np.array(signos_12, dtype=object)]),\n",
    "    columns=[\"feature\", \"beta\", \"signo\"]\n",
    ")"
   ]
  },
  {
   "cell_type": "code",
   "execution_count": 131,
   "id": "dafa379c-0cac-41af-9de9-26e8e5ac17e5",
   "metadata": {},
   "outputs": [],
   "source": [
    "alphas12 = [0.1, 1.0, 10.0, 100.0, 300.0]\n",
    "a12 = []\n",
    "r2tr_list12 = []\n",
    "r2te_list12 = []\n",
    "for a in alphas12:\n",
    "    rg = Ridge(alpha=a, fit_intercept=True, random_state=42).fit(Xtr12s, ytr12)\n",
    "    a12.append(a)\n",
    "    r2tr_list12.append(r2_score(ytr12, rg.predict(Xtr12s)))\n",
    "    r2te_list12.append(r2_score(yte12, rg.predict(Xte12s)))\n",
    "\n",
    "ridge_12 = pd.DataFrame(\n",
    "    np.column_stack([a12, r2tr_list12, r2te_list12]),\n",
    "    columns=[\"alpha\", \"R2_train\", \"R2_test\"]\n",
    ")"
   ]
  },
  {
   "cell_type": "code",
   "execution_count": 133,
   "id": "399aa885-7144-404d-9fe0-f20292ee8bab",
   "metadata": {},
   "outputs": [
    {
     "data": {
      "text/plain": [
       "(   R2_train   R2_test\n",
       " 0  0.998948 -1.001342,\n",
       "   feature      beta signo\n",
       " 0      vs  2.353335     +\n",
       " 1      wt  1.798005     +\n",
       " 2     mpg  1.251131     +\n",
       " 3    carb -1.194684     -\n",
       " 4     cyl  1.042173     +\n",
       " 5    drat  0.646343     +\n",
       " 6    gear -0.445618     -\n",
       " 7      am -0.392329     -\n",
       " 8      hp  0.363284     +\n",
       " 9    disp  0.332145     +,\n",
       "    alpha  R2_train   R2_test\n",
       " 0    0.1  0.991047  0.323923\n",
       " 1    1.0  0.952727  0.744818\n",
       " 2   10.0  0.807692  0.678281\n",
       " 3  100.0  0.368438  0.305166\n",
       " 4  300.0  0.176359  0.140024,\n",
       "   feature beta_ridge signo\n",
       " 0      wt   0.828095     +\n",
       " 1      vs   0.626257     +\n",
       " 2      hp  -0.514257     -\n",
       " 3    gear  -0.395045     -\n",
       " 4     cyl   -0.38441     -\n",
       " 5      am  -0.291622     -\n",
       " 6    carb  -0.274802     -\n",
       " 7     mpg   0.272671     +\n",
       " 8    drat   0.234852     +\n",
       " 9    disp  -0.069548     -)"
      ]
     },
     "execution_count": 133,
     "metadata": {},
     "output_type": "execute_result"
    }
   ],
   "source": [
    "best_idx_12 = int(np.argmax(np.array(r2te_list12)))\n",
    "best_alpha_12 = a12[best_idx_12]\n",
    "ridge_best_12 = Ridge(alpha=best_alpha_12, fit_intercept=True, random_state=42).fit(Xtr12s, ytr12)\n",
    "\n",
    "betas_ridge_12 = pd.Series(ridge_best_12.coef_, index=Xtr12.columns)\n",
    "betas_ridge_12 = betas_ridge_12.reindex(betas_ridge_12.abs().sort_values(ascending=False).index)\n",
    "signos_ridge_12 = [\"+\" if b >= 0 else \"-\" for b in betas_ridge_12.values]\n",
    "\n",
    "tabla_betas_ridge_12 = pd.DataFrame(\n",
    "    np.column_stack([betas_ridge_12.index.to_numpy(), betas_ridge_12.values, np.array(signos_ridge_12, dtype=object)]),\n",
    "    columns=[\"feature\", \"beta_ridge\", \"signo\"]\n",
    ")\n",
    "\n",
    "res_12_ols, tabla_betas_12, ridge_12, tabla_betas_ridge_12"
   ]
  },
  {
   "cell_type": "markdown",
   "id": "b2869dab-c58d-48cd-b62a-8f69cff385ff",
   "metadata": {},
   "source": [
    "Con qsec como objetivo pasó lo mismo que antes. La regresión normal “se lo aprendió de memoria” y falló con datos nuevos. "
   ]
  },
  {
   "cell_type": "markdown",
   "id": "0d10aac6-5b11-41d1-a7b5-d26808d16ed4",
   "metadata": {},
   "source": [
    "**2.1** Realiza una regresión tomando 'mpg' como salida y eliminando la columna 'model'. Crea columnas dummies para los factores 'cyl', 'gear' y 'carb'.\n",
    "\n",
    "Calcula el R2 e interpreta los signos de los betas.\n",
    "Realiza un train-test-split donde se use el 40% de los datos para entrenar. Calcula el R2 de entrenamiento y de prueba."
   ]
  },
  {
   "cell_type": "code",
   "execution_count": 153,
   "id": "474d4394-8163-4b7d-b061-bc73097c01cc",
   "metadata": {},
   "outputs": [],
   "source": [
    "y_21 = df[\"mpg\"].astype(float)\n",
    "dums_21 = pd.get_dummies(df[[\"cyl\",\"gear\",\"carb\"]].astype(\"category\"), drop_first=True)\n",
    "cont_21 = df.drop(columns=[\"mpg\",\"cyl\",\"gear\",\"carb\"]).select_dtypes(include=[np.number])\n",
    "\n",
    "X_21_vals = np.column_stack([cont_21.values, dums_21.values])\n",
    "X_21_cols = list(cont_21.columns) + list(dums_21.columns)\n",
    "tmp_21 = pd.DataFrame(np.column_stack([X_21_vals, y_21.values]), columns=X_21_cols+[\"__y__\"]).dropna()\n",
    "X_21 = tmp_21.drop(columns=\"__y__\")\n",
    "y_21 = tmp_21[\"__y__\"].astype(float)"
   ]
  },
  {
   "cell_type": "code",
   "execution_count": 205,
   "id": "97a39c3a-2b0c-48bf-aa35-91f7dc6e8b5f",
   "metadata": {},
   "outputs": [],
   "source": [
    "Xtr_21, Xte_21, ytr_21, yte_21 = train_test_split(X_21, y_21, train_size=0.40, random_state=42, shuffle=True)\n",
    "sc_21 = StandardScaler().fit(Xtr_21)\n",
    "XtrS_21 = sc_21.transform(Xtr_21)\n",
    "XteS_21 = sc_21.transform(Xte_21)"
   ]
  },
  {
   "cell_type": "code",
   "execution_count": 211,
   "id": "cf060028-f1ed-4cfd-b39b-51f0f3b457a0",
   "metadata": {},
   "outputs": [
    {
     "data": {
      "text/html": [
       "<div>\n",
       "<style scoped>\n",
       "    .dataframe tbody tr th:only-of-type {\n",
       "        vertical-align: middle;\n",
       "    }\n",
       "\n",
       "    .dataframe tbody tr th {\n",
       "        vertical-align: top;\n",
       "    }\n",
       "\n",
       "    .dataframe thead th {\n",
       "        text-align: right;\n",
       "    }\n",
       "</style>\n",
       "<table border=\"1\" class=\"dataframe\">\n",
       "  <thead>\n",
       "    <tr style=\"text-align: right;\">\n",
       "      <th></th>\n",
       "      <th>R2_train</th>\n",
       "      <th>R2_test</th>\n",
       "    </tr>\n",
       "  </thead>\n",
       "  <tbody>\n",
       "    <tr>\n",
       "      <th>0</th>\n",
       "      <td>1.0</td>\n",
       "      <td>-1.565514</td>\n",
       "    </tr>\n",
       "  </tbody>\n",
       "</table>\n",
       "</div>"
      ],
      "text/plain": [
       "   R2_train   R2_test\n",
       "0       1.0 -1.565514"
      ]
     },
     "execution_count": 211,
     "metadata": {},
     "output_type": "execute_result"
    }
   ],
   "source": [
    "ols_21 = LinearRegression().fit(XtrS_21, ytr_21)\n",
    "r2tr_21 = r2_score(ytr_21, ols_21.predict(XtrS_21))\n",
    "r2te_21 = r2_score(yte_21, ols_21.predict(XteS_21))\n",
    "res_21 = pd.DataFrame(np.column_stack([[r2tr_21],[r2te_21]]), columns=[\"R2_train\",\"R2_test\"])\n",
    "res_21"
   ]
  },
  {
   "cell_type": "code",
   "execution_count": 213,
   "id": "558e4b4a-5aaa-437e-887c-25cfd2e4b47f",
   "metadata": {},
   "outputs": [
    {
     "data": {
      "text/html": [
       "<div>\n",
       "<style scoped>\n",
       "    .dataframe tbody tr th:only-of-type {\n",
       "        vertical-align: middle;\n",
       "    }\n",
       "\n",
       "    .dataframe tbody tr th {\n",
       "        vertical-align: top;\n",
       "    }\n",
       "\n",
       "    .dataframe thead th {\n",
       "        text-align: right;\n",
       "    }\n",
       "</style>\n",
       "<table border=\"1\" class=\"dataframe\">\n",
       "  <thead>\n",
       "    <tr style=\"text-align: right;\">\n",
       "      <th></th>\n",
       "      <th>alpha</th>\n",
       "      <th>R2_train</th>\n",
       "      <th>R2_test</th>\n",
       "    </tr>\n",
       "  </thead>\n",
       "  <tbody>\n",
       "    <tr>\n",
       "      <th>0</th>\n",
       "      <td>0.1</td>\n",
       "      <td>0.995223</td>\n",
       "      <td>-0.348670</td>\n",
       "    </tr>\n",
       "    <tr>\n",
       "      <th>1</th>\n",
       "      <td>1.0</td>\n",
       "      <td>0.951007</td>\n",
       "      <td>0.604205</td>\n",
       "    </tr>\n",
       "    <tr>\n",
       "      <th>2</th>\n",
       "      <td>10.0</td>\n",
       "      <td>0.879875</td>\n",
       "      <td>0.810120</td>\n",
       "    </tr>\n",
       "    <tr>\n",
       "      <th>3</th>\n",
       "      <td>100.0</td>\n",
       "      <td>0.576385</td>\n",
       "      <td>0.635280</td>\n",
       "    </tr>\n",
       "    <tr>\n",
       "      <th>4</th>\n",
       "      <td>300.0</td>\n",
       "      <td>0.307993</td>\n",
       "      <td>0.324763</td>\n",
       "    </tr>\n",
       "  </tbody>\n",
       "</table>\n",
       "</div>"
      ],
      "text/plain": [
       "   alpha  R2_train   R2_test\n",
       "0    0.1  0.995223 -0.348670\n",
       "1    1.0  0.951007  0.604205\n",
       "2   10.0  0.879875  0.810120\n",
       "3  100.0  0.576385  0.635280\n",
       "4  300.0  0.307993  0.324763"
      ]
     },
     "execution_count": 213,
     "metadata": {},
     "output_type": "execute_result"
    }
   ],
   "source": [
    "alphas_21 = [0.1, 1.0, 10.0, 100.0, 300.0]\n",
    "a_21, rtr_21, rte_21 = [], [], []\n",
    "for a in alphas_21:\n",
    "    rg = Ridge(alpha=a, fit_intercept=True, random_state=42).fit(XtrS_21, ytr_21)\n",
    "    a_21.append(a)\n",
    "    rtr_21.append(r2_score(ytr_21, rg.predict(XtrS_21)))\n",
    "    rte_21.append(r2_score(yte_21, rg.predict(XteS_21)))\n",
    "ridge_21 = pd.DataFrame(np.column_stack([a_21, rtr_21, rte_21]), columns=[\"alpha\",\"R2_train\",\"R2_test\"])\n",
    "ridge_21"
   ]
  },
  {
   "cell_type": "markdown",
   "id": "8dfc70b2-a822-4e74-a83b-65c33ee764ab",
   "metadata": {},
   "source": [
    "**2.2** Repite el ejercicio anterior usando 'qsec' como salida."
   ]
  },
  {
   "cell_type": "code",
   "execution_count": 161,
   "id": "bf7da8a0-574f-4ffb-a0ca-0fb94b170586",
   "metadata": {},
   "outputs": [],
   "source": [
    "y_22 = df[\"qsec\"].astype(float)\n",
    "dums_22 = pd.get_dummies(df[[\"cyl\",\"gear\",\"carb\"]].astype(\"category\"), drop_first=True)\n",
    "cont_22 = df.drop(columns=[\"qsec\",\"cyl\",\"gear\",\"carb\"]).select_dtypes(include=[np.number])"
   ]
  },
  {
   "cell_type": "code",
   "execution_count": 163,
   "id": "2ce375d6-bbd2-4fcb-92fc-243c8055448b",
   "metadata": {},
   "outputs": [],
   "source": [
    "X_22_vals = np.column_stack([cont_22.values, dums_22.values])\n",
    "X_22_cols = list(cont_22.columns) + list(dums_22.columns)\n",
    "tmp_22 = pd.DataFrame(np.column_stack([X_22_vals, y_22.values]), columns=X_22_cols+[\"__y__\"]).dropna()\n",
    "X_22 = tmp_22.drop(columns=\"__y__\")\n",
    "y_22 = tmp_22[\"__y__\"].astype(float)"
   ]
  },
  {
   "cell_type": "code",
   "execution_count": 165,
   "id": "5ecc41da-da54-4750-be31-a3935a85b49e",
   "metadata": {},
   "outputs": [],
   "source": [
    "Xtr_22, Xte_22, ytr_22, yte_22 = train_test_split(X_22, y_22, train_size=0.40, random_state=42, shuffle=True)\n",
    "sc_22 = StandardScaler().fit(Xtr_22)\n",
    "XtrS_22 = sc_22.transform(Xtr_22)\n",
    "XteS_22 = sc_22.transform(Xte_22)"
   ]
  },
  {
   "cell_type": "code",
   "execution_count": 216,
   "id": "b111aaeb-78cf-4987-a1f5-e625e31323e7",
   "metadata": {},
   "outputs": [
    {
     "data": {
      "text/html": [
       "<div>\n",
       "<style scoped>\n",
       "    .dataframe tbody tr th:only-of-type {\n",
       "        vertical-align: middle;\n",
       "    }\n",
       "\n",
       "    .dataframe tbody tr th {\n",
       "        vertical-align: top;\n",
       "    }\n",
       "\n",
       "    .dataframe thead th {\n",
       "        text-align: right;\n",
       "    }\n",
       "</style>\n",
       "<table border=\"1\" class=\"dataframe\">\n",
       "  <thead>\n",
       "    <tr style=\"text-align: right;\">\n",
       "      <th></th>\n",
       "      <th>R2_train</th>\n",
       "      <th>R2_test</th>\n",
       "    </tr>\n",
       "  </thead>\n",
       "  <tbody>\n",
       "    <tr>\n",
       "      <th>0</th>\n",
       "      <td>1.0</td>\n",
       "      <td>-0.266944</td>\n",
       "    </tr>\n",
       "  </tbody>\n",
       "</table>\n",
       "</div>"
      ],
      "text/plain": [
       "   R2_train   R2_test\n",
       "0       1.0 -0.266944"
      ]
     },
     "execution_count": 216,
     "metadata": {},
     "output_type": "execute_result"
    }
   ],
   "source": [
    "ols_22 = LinearRegression().fit(XtrS_22, ytr_22)\n",
    "r2tr_22 = r2_score(ytr_22, ols_22.predict(XtrS_22))\n",
    "r2te_22 = r2_score(yte_22, ols_22.predict(XteS_22))\n",
    "res_22 = pd.DataFrame(np.column_stack([[r2tr_22],[r2te_22]]), columns=[\"R2_train\",\"R2_test\"])\n",
    "res_22"
   ]
  },
  {
   "cell_type": "code",
   "execution_count": 218,
   "id": "b15fc794-6fbf-4d05-8348-1bd802d2e147",
   "metadata": {},
   "outputs": [
    {
     "data": {
      "text/html": [
       "<div>\n",
       "<style scoped>\n",
       "    .dataframe tbody tr th:only-of-type {\n",
       "        vertical-align: middle;\n",
       "    }\n",
       "\n",
       "    .dataframe tbody tr th {\n",
       "        vertical-align: top;\n",
       "    }\n",
       "\n",
       "    .dataframe thead th {\n",
       "        text-align: right;\n",
       "    }\n",
       "</style>\n",
       "<table border=\"1\" class=\"dataframe\">\n",
       "  <thead>\n",
       "    <tr style=\"text-align: right;\">\n",
       "      <th></th>\n",
       "      <th>alpha</th>\n",
       "      <th>R2_train</th>\n",
       "      <th>R2_test</th>\n",
       "    </tr>\n",
       "  </thead>\n",
       "  <tbody>\n",
       "    <tr>\n",
       "      <th>0</th>\n",
       "      <td>0.1</td>\n",
       "      <td>0.996298</td>\n",
       "      <td>0.690983</td>\n",
       "    </tr>\n",
       "    <tr>\n",
       "      <th>1</th>\n",
       "      <td>1.0</td>\n",
       "      <td>0.980133</td>\n",
       "      <td>0.730232</td>\n",
       "    </tr>\n",
       "    <tr>\n",
       "      <th>2</th>\n",
       "      <td>10.0</td>\n",
       "      <td>0.860948</td>\n",
       "      <td>0.623792</td>\n",
       "    </tr>\n",
       "    <tr>\n",
       "      <th>3</th>\n",
       "      <td>100.0</td>\n",
       "      <td>0.434433</td>\n",
       "      <td>0.284449</td>\n",
       "    </tr>\n",
       "    <tr>\n",
       "      <th>4</th>\n",
       "      <td>300.0</td>\n",
       "      <td>0.214089</td>\n",
       "      <td>0.133655</td>\n",
       "    </tr>\n",
       "  </tbody>\n",
       "</table>\n",
       "</div>"
      ],
      "text/plain": [
       "   alpha  R2_train   R2_test\n",
       "0    0.1  0.996298  0.690983\n",
       "1    1.0  0.980133  0.730232\n",
       "2   10.0  0.860948  0.623792\n",
       "3  100.0  0.434433  0.284449\n",
       "4  300.0  0.214089  0.133655"
      ]
     },
     "execution_count": 218,
     "metadata": {},
     "output_type": "execute_result"
    }
   ],
   "source": [
    "alphas_22 = [0.1, 1.0, 10.0, 100.0, 300.0]\n",
    "a_22, rtr_22, rte_22 = [], [], []\n",
    "for a in alphas_22:\n",
    "    rg = Ridge(alpha=a, fit_intercept=True, random_state=42).fit(XtrS_22, ytr_22)\n",
    "    a_22.append(a)\n",
    "    rtr_22.append(r2_score(ytr_22, rg.predict(XtrS_22)))\n",
    "    rte_22.append(r2_score(yte_22, rg.predict(XteS_22)))\n",
    "ridge_22 = pd.DataFrame(np.column_stack([a_22, rtr_22, rte_22]), columns=[\"alpha\",\"R2_train\",\"R2_test\"])\n",
    "ridge_22"
   ]
  },
  {
   "cell_type": "markdown",
   "id": "da66b4be-be0b-49b4-933c-fbda95ab154d",
   "metadata": {},
   "source": [
    "2.1 y 2.2: \n",
    "En ambos casos el OLS queda casi perfecto en entrenamiento con el r2 dando 1, lo que indica que el modelo memoriza (muchos y por eso falla en prueba (r2 test negativo en 2.1 ≈ −1.57 y en 2.2 ≈ −0.27). Al aplicar Ridge el problema se corrige."
   ]
  },
  {
   "cell_type": "markdown",
   "id": "9efbcaba-a591-4a82-bbb2-b76c745f03c8",
   "metadata": {},
   "source": [
    "**3.1** Compara los R2 de los ejercicios 1.1 & 2.1."
   ]
  },
  {
   "cell_type": "code",
   "execution_count": 186,
   "id": "c2aec147-449f-41a4-ba56-465336dd843d",
   "metadata": {},
   "outputs": [],
   "source": [
    "r2tr_list = float(res_ols.iloc[0,0]); r2te_list = float(res_ols.iloc[0,1])\n",
    "r2tr_21 = float(res_21.iloc[0,0]); r2te_21 = float(res_21.iloc[0,1])\n",
    "r2tr_12 = float(res_12_ols.iloc[0,0]); r2te_12 = float(res_12_ols.iloc[0,1])\n",
    "r2tr_22 = float(res_22.iloc[0,0]); r2te_22 = float(res_22.iloc[0,1])"
   ]
  },
  {
   "cell_type": "code",
   "execution_count": 188,
   "id": "840ba1ef-1bdc-4fd6-839d-d23d6c548d55",
   "metadata": {},
   "outputs": [],
   "source": [
    "c1_31 = np.array([r2tr_list, r2te_list])\n",
    "c2_31 = np.array([r2tr_21, r2te_21])\n",
    "cmp_31 = pd.DataFrame(np.column_stack([c1_31, c2_31]), columns=[\"R2_1_1\",\"R2_2_1\"])\n",
    "cmp_31.index = [\"train\",\"test\"]"
   ]
  },
  {
   "cell_type": "code",
   "execution_count": 190,
   "id": "97d5861d-0980-4dd5-8313-044a955c08c7",
   "metadata": {},
   "outputs": [
    {
     "data": {
      "text/html": [
       "<div>\n",
       "<style scoped>\n",
       "    .dataframe tbody tr th:only-of-type {\n",
       "        vertical-align: middle;\n",
       "    }\n",
       "\n",
       "    .dataframe tbody tr th {\n",
       "        vertical-align: top;\n",
       "    }\n",
       "\n",
       "    .dataframe thead th {\n",
       "        text-align: right;\n",
       "    }\n",
       "</style>\n",
       "<table border=\"1\" class=\"dataframe\">\n",
       "  <thead>\n",
       "    <tr style=\"text-align: right;\">\n",
       "      <th></th>\n",
       "      <th>R2_1_1</th>\n",
       "      <th>R2_2_1</th>\n",
       "    </tr>\n",
       "  </thead>\n",
       "  <tbody>\n",
       "    <tr>\n",
       "      <th>train</th>\n",
       "      <td>0.998212</td>\n",
       "      <td>1.000000</td>\n",
       "    </tr>\n",
       "    <tr>\n",
       "      <th>test</th>\n",
       "      <td>-7.107141</td>\n",
       "      <td>-1.565514</td>\n",
       "    </tr>\n",
       "  </tbody>\n",
       "</table>\n",
       "</div>"
      ],
      "text/plain": [
       "         R2_1_1    R2_2_1\n",
       "train  0.998212  1.000000\n",
       "test  -7.107141 -1.565514"
      ]
     },
     "execution_count": 190,
     "metadata": {},
     "output_type": "execute_result"
    }
   ],
   "source": [
    "cmp_31"
   ]
  },
  {
   "cell_type": "markdown",
   "id": "1d8379a9-ccbc-410b-879f-873c29abe530",
   "metadata": {},
   "source": [
    "**3.2** Compara los R2 de los ejercicios 1.2 & 2.2."
   ]
  },
  {
   "cell_type": "code",
   "execution_count": 193,
   "id": "64678923-c947-418b-a21f-f9e2bf3ff859",
   "metadata": {},
   "outputs": [],
   "source": [
    "c1_32 = np.array([r2tr_12, r2te_12])\n",
    "c2_32 = np.array([r2tr_22, r2te_22])\n",
    "cmp_32 = pd.DataFrame(np.column_stack([c1_32, c2_32]), columns=[\"R2_1_2\",\"R2_2_2\"])\n",
    "cmp_32.index = [\"train\",\"test\"]"
   ]
  },
  {
   "cell_type": "code",
   "execution_count": 195,
   "id": "16eac636-5133-48aa-a0aa-bead1e3d3669",
   "metadata": {},
   "outputs": [
    {
     "data": {
      "text/html": [
       "<div>\n",
       "<style scoped>\n",
       "    .dataframe tbody tr th:only-of-type {\n",
       "        vertical-align: middle;\n",
       "    }\n",
       "\n",
       "    .dataframe tbody tr th {\n",
       "        vertical-align: top;\n",
       "    }\n",
       "\n",
       "    .dataframe thead th {\n",
       "        text-align: right;\n",
       "    }\n",
       "</style>\n",
       "<table border=\"1\" class=\"dataframe\">\n",
       "  <thead>\n",
       "    <tr style=\"text-align: right;\">\n",
       "      <th></th>\n",
       "      <th>R2_1_2</th>\n",
       "      <th>R2_2_2</th>\n",
       "    </tr>\n",
       "  </thead>\n",
       "  <tbody>\n",
       "    <tr>\n",
       "      <th>train</th>\n",
       "      <td>0.998948</td>\n",
       "      <td>1.000000</td>\n",
       "    </tr>\n",
       "    <tr>\n",
       "      <th>test</th>\n",
       "      <td>-1.001342</td>\n",
       "      <td>-0.266944</td>\n",
       "    </tr>\n",
       "  </tbody>\n",
       "</table>\n",
       "</div>"
      ],
      "text/plain": [
       "         R2_1_2    R2_2_2\n",
       "train  0.998948  1.000000\n",
       "test  -1.001342 -0.266944"
      ]
     },
     "execution_count": 195,
     "metadata": {},
     "output_type": "execute_result"
    }
   ],
   "source": [
    "cmp_32"
   ]
  },
  {
   "cell_type": "markdown",
   "id": "7203ffbd-67d1-4035-8c37-c8776ce0203c",
   "metadata": {},
   "source": [
    "En la comparación de los ejercicios se ve que todos los modelos con OLS tienden a memorizar los datos, ya que el r2 de entrenamiento es prácticamente 1 en todos los casos. En la parte de prueba, el modelo 1.1 con mpg tiene un desempeño muy malo con r2 de alrededor de -7, y al usar dummies en 2.1 incluso empeora con un r2 de -1.5. En el caso de qsec, tanto 1.2 como 2.2 muestran sobreajuste, pero 2.2 resulta un poco menos malo, con un r2 de -0.27 frente al -1.0 de 1.2. Esto muestra que con OLS los modelos no generalizan bien y que la regularización es necesaria para obtener resultados útiles."
   ]
  }
 ],
 "metadata": {
  "kernelspec": {
   "display_name": "Python [conda env:base] *",
   "language": "python",
   "name": "conda-base-py"
  },
  "language_info": {
   "codemirror_mode": {
    "name": "ipython",
    "version": 3
   },
   "file_extension": ".py",
   "mimetype": "text/x-python",
   "name": "python",
   "nbconvert_exporter": "python",
   "pygments_lexer": "ipython3",
   "version": "3.12.7"
  }
 },
 "nbformat": 4,
 "nbformat_minor": 5
}
