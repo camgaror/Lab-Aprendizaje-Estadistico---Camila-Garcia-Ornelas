{
 "cells": [
  {
   "cell_type": "markdown",
   "id": "70086771-ad90-497d-9b51-22626c9cce63",
   "metadata": {},
   "source": [
    "# Laboratorio de regresión - 5"
   ]
  },
  {
   "cell_type": "markdown",
   "id": "9f666e0e-9e63-49f4-96e1-053c5b1738c3",
   "metadata": {},
   "source": [
    "|                |   |\r\n",
    ":----------------|---|\r\n",
    "| **Nombre**     Camila Garcia Ornelas |   |\r\n",
    "| **Fecha**     15 de septiembre |   |\r\n",
    "| **Expediente*749725* |   |"
   ]
  },
  {
   "cell_type": "markdown",
   "id": "19f352dc-5863-4685-af3c-25f8fcf60841",
   "metadata": {},
   "source": [
    "## Validación"
   ]
  },
  {
   "cell_type": "markdown",
   "id": "b73fccec-9651-4f74-9d56-a3c2b2097e19",
   "metadata": {},
   "source": [
    "Hemos estado usando `train_test_split` en nuestros modelos anteriores.\n",
    "\n",
    "¿Por qué?"
   ]
  },
  {
   "cell_type": "markdown",
   "id": "84fe97ab-a033-4d0f-ab73-0cdabe591655",
   "metadata": {},
   "source": [
    "Para tener datos “nuevos” donde probar el modelo.. El “test” actúa como ejemplos que el modelo no vio al entrenar, lo cual nos ayuda a simular datos nuevos. "
   ]
  },
  {
   "cell_type": "markdown",
   "id": "20b452d0-e0b5-4d92-bd1a-288fa14a2ed9",
   "metadata": {},
   "source": [
    "Usando el train_test_split, sabemos qué tan bien generaliza y si hay overfitting. También nos ayuda a evitar mezclar info de entrenamiento con prueba (sin truco)."
   ]
  },
  {
   "cell_type": "markdown",
   "id": "0a60a028-ed60-4a5c-9308-dee4862e2bac",
   "metadata": {},
   "source": [
    "Si la muestra es un subset de la población y queremos generalizar sobre la población, ¿no sería mejor utilizar todos los datos al entrenar un modelo?"
   ]
  },
  {
   "cell_type": "markdown",
   "id": "50989a32-59e7-4bef-9b60-89f543d8ca81",
   "metadata": {},
   "source": [
    "Si usas todo, no tienes con qué evaluar de forma justa (el error en train engaña). Es mejor separar una parte para probar o usa validación cruzada."
   ]
  },
  {
   "cell_type": "markdown",
   "id": "ed8b1ad0-3c68-4f6a-b16b-c0b1353d7dd2",
   "metadata": {},
   "source": [
    "Al final, ya elegido el modelo, sí puedes reentrenar con todo para usarlo en producción."
   ]
  },
  {
   "cell_type": "markdown",
   "id": "b98d96f3-7370-4161-aa67-75f10e5817cd",
   "metadata": {},
   "source": [
    "El propósito de volver a muestrear dentro de nuestro dataset es tener una idea de qué tan buena podría ser la generalización de nuestro modelo. Imagina un dataset ya separado en dos mitades. Utilizas la primera mitad para entrenar el modelo y pruebas en la segunda mitad; la segunda mitad eran datos invisibles para el modelo al momento de entrenar. Esto nos lleva a tres escenario típicos:\n",
    "\n",
    "1. Si el modelo hace buenas predicciones en la segunda mitad, significa que la primera mitad era \"suficiente\" para generalizar.\n",
    "2. Si el modelo no hace buenas predicciones en la segunda mitad, pero sí en la primera mitad, podría ser que había información importante en la segunda mitad que debió haber sido tomada en cuenta al entrenar, o un problema de overfitting.\n",
    "3. Si el modelo no hace buenas predicciones en la segunda mitad, y tampoco en la primera mitad, se tendrían que revisar los factores y/o el modelo seleccionado.\n",
    "\n",
    "El caso ideal sería el 1, pero por estadística los errores y varianzas tienen como entrada el número de muestas, por lo que tenemos menos seguridad de nuestros resutados al usar menos muestras. Si vemos que el modelo generaliza bien podemos unir de nuevo el dataset y entrenar sobre el dataset completo.\n",
    "\n",
    "En el caso 2 está el problema de que no podemos saber qué información es necesaria para el entrenamiento apropiado del modelo; esto nos lleva a pensar que debemos usar el dataset completo para entrenar, pero esto nos lleva al mismo problema de no saber si el modelo puede generalizar.\n",
    "\n",
    "El problema sólo incrementa si se tienen hiperparámetros en el modelo (e.g. $\\lambda$ en regularización)."
   ]
  },
  {
   "cell_type": "markdown",
   "id": "a16176ad-41fc-4f3c-b865-2eb4219152e2",
   "metadata": {},
   "source": [
    "## Leave-One-Out Cross Validation"
   ]
  },
  {
   "cell_type": "markdown",
   "id": "e1f7165d-5b5d-4e92-ae7f-7edb12eea745",
   "metadata": {},
   "source": [
    "Este método de validación es una colección de $n$ `train-test-split`. Teniendo un dataset de $n$ muestras, la lógica es:\n",
    "1. Saca una muestra del dataset.\n",
    "2. Entrena tu modelo con las $n-1$ muestras.\n",
    "3. Evalúa tu modelo en la muestra que quedó fuera con el métrico que más se ajuste a la aplicación.\n",
    "4. Regresa la muestra al dataset.\n",
    "5. Repite 1-4 con muestras diferentes hasta haber hecho el procedimiento $n$ veces para $n$ muestras.\n",
    "6. Calcula la media y desviación estándar de los métricos guardados."
   ]
  },
  {
   "cell_type": "markdown",
   "id": "21340b80-8fa4-4cdf-8fe4-85e4a35febcd",
   "metadata": {},
   "source": [
    "Con los resultados del proceso de validación podemos saber qué tan bueno podría ser el modelo seleccionado con los datos (con/sin transformaciones)."
   ]
  },
  {
   "cell_type": "markdown",
   "id": "0983bf1c-a6a2-42e4-a522-92bba6b450ab",
   "metadata": {},
   "source": [
    "### Ejercicio 1"
   ]
  },
  {
   "cell_type": "markdown",
   "id": "21e5f076-bc52-482c-9560-ecd0c125efa7",
   "metadata": {},
   "source": [
    "Utiliza el dataset `Motor Trend Car Road Tests`. Elimina la columna `model` y entrena 32 modelos diferentes utilizando Leave-One-Out Cross Validation con target `mpg`. Utiliza MSE como métrico."
   ]
  },
  {
   "cell_type": "code",
   "execution_count": 28,
   "id": "89510da9-15a9-41e5-bd0e-855291acec2a",
   "metadata": {},
   "outputs": [],
   "source": [
    "import pandas as pd\n",
    "import numpy as np\n",
    "from sklearn.linear_model import LinearRegression\n",
    "from sklearn.model_selection import LeaveOneOut\n",
    "from sklearn.metrics import mean_squared_error\n",
    "import scipy.stats as st"
   ]
  },
  {
   "cell_type": "code",
   "execution_count": 30,
   "id": "b7199ca1-32f0-463b-925f-76613d608a72",
   "metadata": {},
   "outputs": [],
   "source": [
    "df = pd.read_excel(\"Motor Trend Car Road Tests.xlsx\")\n",
    "df.columns = df.columns.str.strip()\n",
    "df = df.drop(columns=['model'], errors='ignore')\n",
    "y = df['mpg'].astype(float)\n",
    "X = df.drop(columns=['mpg'])"
   ]
  },
  {
   "cell_type": "code",
   "execution_count": 32,
   "id": "40ad85dc-3106-4430-9ed2-b6354e00d87f",
   "metadata": {},
   "outputs": [
    {
     "name": "stdout",
     "output_type": "stream",
     "text": [
      "[5.25885580e+00 2.45399671e+00 2.05504934e+01 4.43291071e-02\n",
      " 1.58115552e+00 1.01186255e+01 1.63740415e-02 8.08125071e+00\n",
      " 3.94701835e+01 7.70632772e-01 4.95569423e+00 1.02247302e+01\n",
      " 4.43012933e+00 4.87812771e-01 6.82384458e+00 6.02750698e-01\n",
      " 3.68101786e+01 3.17598556e+01 1.06322754e+00 3.27132862e+01\n",
      " 1.43071737e+01 3.40535465e+00 9.40800765e+00 1.03500398e-04\n",
      " 9.96243953e+00 1.34122089e+00 1.64800641e-01 2.36002065e+01\n",
      " 8.31145764e+01 1.02712372e-04 8.78553337e+00 1.75029299e+01]\n",
      "\n",
      "12.181558006901959\n",
      "\n",
      "17.34049561034304\n",
      "\n",
      "3.4902088772596347\n",
      "\n",
      "(5.929642648176549, 18.433473365627368)\n"
     ]
    }
   ],
   "source": [
    "loo = LeaveOneOut()\n",
    "mse_list = []\n",
    "\n",
    "\n",
    "for train_idx, test_idx in loo.split(X):\n",
    "    X_tr, X_te = X.iloc[train_idx, :], X.iloc[test_idx, :]\n",
    "    y_tr, y_te = y.iloc[train_idx], y.iloc[test_idx]\n",
    "\n",
    "\n",
    "    lr = LinearRegression().fit(X_tr, y_tr)\n",
    "    y_hat = lr.predict(X_te)[0]\n",
    "    mse_list.append(mean_squared_error([y_te.values[0]], [y_hat]))\n",
    "\n",
    "\n",
    "\n",
    "mse_array = np.array(mse_list)\n",
    "\n",
    "mse_mean = mse_array.mean()\n",
    "mse_std = mse_array.std(ddof=1)\n",
    "rmse_mean = np.sqrt(mse_mean)\n",
    "\n",
    "n = len(mse_list)\n",
    "alpha = 0.05\n",
    "t_crit = st.t.ppf(1 - alpha/2, df=n-1)\n",
    "\n",
    "margin_error = t_crit * (mse_std / np.sqrt(n))\n",
    "IC = (mse_mean - margin_error, mse_mean + margin_error)\n",
    "\n",
    "print(mse_array)\n",
    "print()\n",
    "print(mse_mean)\n",
    "print()\n",
    "print(mse_std)\n",
    "print()\n",
    "print(rmse_mean)\n",
    "print()\n",
    "print(IC)"
   ]
  },
  {
   "cell_type": "markdown",
   "id": "c8724bdb-e50b-4470-b53a-2d9843fae6ea",
   "metadata": {},
   "source": [
    "Interpreta."
   ]
  },
  {
   "cell_type": "markdown",
   "id": "b19904df-1fe6-433a-b1bd-a7ce86ce0eef",
   "metadata": {},
   "source": [
    "El mse_array es un vector donde cada número es el error cuadrático para cada observación. Contiene valores muy pequeños que se acercan a cero. Esto indica que el modelo lo predijo casi exacto. Sin embargo, también contiene valores grandes como 1.637e+02 (163.7), 3.271e+01 (32.7), 2.360e+01 (23.6) que quieren decir que hay observaciones difíciles que el modelo lineal no predice bien."
   ]
  },
  {
   "cell_type": "markdown",
   "id": "dc8ee166-b442-49f8-bf40-db9aaf9c3db8",
   "metadata": {},
   "source": [
    "El mse_mean, que en este caso es 12,18, es un promedio de esos errores. El rmse_mean es el error típico de predicción en mpg. Esto quiere decir que cuando se use este modelo para un auto nuevo, espera equivocarte ~3.5 mpg en promedio. El mse_std es la desviación estándar del MSE. Como nos dio 17.34, hay mucha variabilidad entre pliegues; algunos autos dejan errores muy altos. El intervalo de confianza de 95% va de 5.93 a 18.43. Esto quiere decir que probablemente el MSE \"real\" se encuentre dentro de este rango"
   ]
  },
  {
   "cell_type": "markdown",
   "id": "dbc61dd1-fa5f-43b0-969a-592f8e9fc56f",
   "metadata": {},
   "source": [
    "## K-Folds Cross-Validation"
   ]
  },
  {
   "cell_type": "markdown",
   "id": "2dbca526-2c69-4c70-b6b4-270fc51d825b",
   "metadata": {},
   "source": [
    "El dataset `Motor Trend Car Road Tests` sólo tiene 32 muestras, y utilizar un modelo sencillo de regresión múltiple hace que usar LOOCV sea muy rápido. El dataset `California Housing` tiene $20640$ muestras para $9$ columnas, entonces realizar un ajuste sobre una transformación o sobre el modelo y luego calcular el impacto esperado podría tomar más tiempo."
   ]
  },
  {
   "cell_type": "markdown",
   "id": "8a437812-c00e-400f-ae7d-110b3afa5dc3",
   "metadata": {},
   "source": [
    "La solución propuesta es dividir el dataset en *k* folds (partes iguales), ajustar en *k-1* folds y probar en el restante."
   ]
  },
  {
   "cell_type": "markdown",
   "id": "5bb82cc3-0d35-442a-a12b-f9c6fd131af2",
   "metadata": {},
   "source": [
    "### Ejercicio 2\n",
    "Utiliza el dataset `California Housing` y haz K-folds Cross Validation con 10 folds. Utiliza el MSE como métrico."
   ]
  },
  {
   "cell_type": "code",
   "execution_count": 51,
   "id": "ba50e361-edcd-4cdb-9609-68f20d6fca97",
   "metadata": {},
   "outputs": [
    {
     "name": "stdout",
     "output_type": "stream",
     "text": [
      "Dataset Shape: (20640, 8) (20640,)\n",
      "Dataset Features: ['MedInc', 'HouseAge', 'AveRooms', 'AveBedrms', 'Population', 'AveOccup', 'Latitude', 'Longitude']\n",
      "Dataset Target: ['MedHouseVal']\n"
     ]
    }
   ],
   "source": [
    "from sklearn.datasets import fetch_california_housing\n",
    "\n",
    "housing = fetch_california_housing()\n",
    "print(\"Dataset Shape:\", housing.data.shape, housing.target.shape)\n",
    "print(\"Dataset Features:\", housing.feature_names)\n",
    "print(\"Dataset Target:\", housing.target_names)\n",
    "X = housing.data\n",
    "y = housing.target\n"
   ]
  },
  {
   "cell_type": "code",
   "execution_count": 55,
   "id": "4e8570a4-76bb-4d81-a90b-43647b0df438",
   "metadata": {},
   "outputs": [
    {
     "name": "stdout",
     "output_type": "stream",
     "text": [
      "(20640, 8) (20640,)\n",
      "['MedInc', 'HouseAge', 'AveRooms', 'AveBedrms', 'Population', 'AveOccup', 'Latitude', 'Longitude']\n"
     ]
    }
   ],
   "source": [
    "import numpy as np\n",
    "from sklearn.linear_model import LinearRegression\n",
    "from sklearn.utils import shuffle\n",
    "\n",
    "X, y = shuffle(housing.data, housing.target, random_state=42)\n",
    "\n",
    "print(X.shape, y.shape)\n",
    "print(housing.feature_names)"
   ]
  },
  {
   "cell_type": "code",
   "execution_count": 83,
   "id": "54f44358-f47d-493b-93cf-10aa2314fa20",
   "metadata": {},
   "outputs": [
    {
     "name": "stdout",
     "output_type": "stream",
     "text": [
      "Fold 1 y MSE: 0.559\n",
      "Fold 2 y MSE: 0.553\n",
      "Fold 3 y MSE: 0.481\n",
      "Fold 4 y MSE: 0.574\n",
      "Fold 5 y MSE: 0.489\n",
      "Fold 6 y MSE: 0.528\n",
      "Fold 7 y MSE: 0.551\n",
      "Fold 8 y MSE: 0.475\n",
      "Fold 9 y MSE: 0.564\n",
      "Fold 10 y MSE: 0.55\n",
      "\n",
      "[0.55900192 0.5531233  0.48116128 0.57420367 0.48897584 0.52838818\n",
      " 0.55117824 0.47483961 0.56436922 0.55002537]\n",
      "\n",
      "0.5325266619260605\n",
      "\n",
      "0.03713364389073527\n",
      "\n",
      "0.7297442441883735\n"
     ]
    }
   ],
   "source": [
    "k = 10\n",
    "indices = np.arange(len(X))\n",
    "folds = np.array_split(indices, k)\n",
    "\n",
    "mse_folds = []\n",
    "\n",
    "for f in range(k):\n",
    "    test_idx = folds[f]\n",
    "    train_idx = np.hstack([folds[i] for i in range(k) if i != f])\n",
    "\n",
    "    X_train, y_train = X[train_idx], y[train_idx]\n",
    "    X_test, y_test = X[test_idx],  y[test_idx]\n",
    "\n",
    "    lr = LinearRegression().fit(X_train, y_train)\n",
    "    y_hat = lr.predict(X_test)\n",
    "\n",
    "    mse = ((y_test - y_hat) ** 2).mean()\n",
    "    mse_folds.append(mse)\n",
    "    print(\"Fold\", f+1, \"y MSE:\", round(mse,3))\n",
    "\n",
    "mse_folds = np.array(mse_folds)\n",
    "mse_mean  = mse_folds.mean()\n",
    "mse_std   = mse_folds.std(ddof=1)\n",
    "rmse_mean = np.sqrt(mse_mean)\n",
    "\n",
    "print()\n",
    "print(mse_folds)\n",
    "print()\n",
    "print(mse_mean)\n",
    "print()\n",
    "print(mse_std)\n",
    "print()\n",
    "print(rmse_mean)"
   ]
  },
  {
   "cell_type": "markdown",
   "id": "34f7098f-a1de-4508-b3ff-af1484561856",
   "metadata": {},
   "source": [
    "Interpreta."
   ]
  },
  {
   "cell_type": "markdown",
   "id": "b7fbaf4d-f62b-46d9-9a35-23fcdd50a8ca",
   "metadata": {},
   "source": [
    "El promedio de los errores es aproximadamente 0.53 y la desviación estándar es aproximadamente 0.03. Hay variación entre cada fold. "
   ]
  },
  {
   "cell_type": "markdown",
   "id": "333c8039-5b38-4835-a523-d4f6f7a7040b",
   "metadata": {},
   "source": [
    "El error típico de la regresión lineal es de 0.72. Esto indicaría un error de 72,000 USD. "
   ]
  },
  {
   "cell_type": "markdown",
   "id": "da5792ac-6d38-4f02-bf10-aeaa0a040d17",
   "metadata": {},
   "source": [
    "## Referencia\n",
    "\n",
    "James, G., Witten, D., Hastie, T., Tibshirani, R.,, Taylor, J. (2023). An Introduction to Statistical Learning with Applications in Python. Cham: Springer. ISBN: 978-3-031-38746-3"
   ]
  }
 ],
 "metadata": {
  "kernelspec": {
   "display_name": "Python [conda env:base] *",
   "language": "python",
   "name": "conda-base-py"
  },
  "language_info": {
   "codemirror_mode": {
    "name": "ipython",
    "version": 3
   },
   "file_extension": ".py",
   "mimetype": "text/x-python",
   "name": "python",
   "nbconvert_exporter": "python",
   "pygments_lexer": "ipython3",
   "version": "3.12.7"
  }
 },
 "nbformat": 4,
 "nbformat_minor": 5
}
