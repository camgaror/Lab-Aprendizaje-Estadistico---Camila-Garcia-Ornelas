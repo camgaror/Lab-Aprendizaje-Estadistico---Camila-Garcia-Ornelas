{
 "cells": [
  {
   "cell_type": "markdown",
   "id": "a0bbb4c4-0bb5-4dee-a1f5-dd7c83709900",
   "metadata": {},
   "source": [
    "# Corrección de preguntas teóricas\n",
    "\n",
    "Cada corrección que hagas debe estar marcada con los siguientes puntos:\n",
    "- **¿Cuál fue el error?**\n",
    "- **¿Cuál es la corrección?**\n",
    "- **¿Por qué se cometió el error?**\n",
    "- **¿Cómo se puede evitar este error en el futuro?**\n",
    "\n",
    "---\n",
    "\n",
    "### 1. ¿Qué es un pipeline?\n",
    "\n",
    "**Respuesta:**  \n",
    "Un pipeline es una secuencia estructurada de pasos que automatiza el flujo de trabajo para procesar datos, desde la transformación hasta la predicción. Se utiliza comúnmente para mantener la consistencia en el tratamiento de datos durante entrenamiento y prueba.\n",
    "\n",
    "**Propósito:**  \n",
    "Asegura que todas las transformaciones (como escalamiento, codificación, etc.) se apliquen de forma sistemática y reproducible, evitando errores como el data leakage.\n",
    "\n",
    "-  **Esta respuesta fue correcta.**\n",
    "\n",
    "---\n",
    "\n",
    "### 2. ¿Cuál es el propósito de realizar regresiones? Explica las ventajas y desventajas de los dos planteamientos vistos en clase.\n",
    "\n",
    "**Respuesta:**  \n",
    "La regresión permite modelar la relación entre una variable dependiente y una o más independientes, para fines de predicción o interpretación.\n",
    "\n",
    "**Propósito:**  \n",
    "Permite identificar qué factores influyen significativamente en una variable objetivo y hacer predicciones basadas en ellos.\n",
    "\n",
    "-  **Error:** Tus respuestas están muy enfocadas en el “qué se hace” en lugar del **motivo** por el que se realiza cada paso en el proceso.  \n",
    "-  **Corrección:** Incluir explicaciones del porqué, como el propósito de predecir o validar relaciones.  \n",
    "-  **Cómo evitarlo:** Durante el estudio, preguntarse: “¿Qué problema soluciona esta técnica?” en lugar de solo “¿Cómo se aplica?”.\n",
    "\n",
    "---\n",
    "\n",
    "### 3. ¿En qué consiste el proceso de escalamiento de factores?\n",
    "\n",
    "**Respuesta:**  \n",
    "El escalamiento transforma las variables para que compartan una misma escala, generalmente con media 0 y desviación estándar 1.\n",
    "\n",
    "**Propósito:**  \n",
    "Evita que las variables con mayor magnitud dominen sobre otras y permite que modelos como regresión penalizada funcionen correctamente.\n",
    "\n",
    "-  **Error:** Respuesta centrada en el “cómo se hace”. Confusión al escribir \"mismo tamaño\" en vez de \"misma escala\".  \n",
    "-  **Corrección:** Debe enfatizarse que se hace para asegurar una penalización justa entre variables. El tamaño y la escala son cosas diferentes. \n",
    "-  **Cómo evitarlo:** Asociar cada paso técnico con un motivo o ventaja práctica. \n",
    "\n",
    "---\n",
    "\n",
    "### 4. Explica el propósito de penalizar factores en una regresión.\n",
    "\n",
    "**Respuesta:**  \n",
    "La penalización reduce la complejidad del modelo agregando un costo por usar coeficientes grandes (como en Lasso o Ridge).\n",
    "\n",
    "**Propósito:**  \n",
    "Mejorar la generalización del modelo y evitar el sobreajuste, sobre todo cuando hay muchas variables o multicolinealidad.\n",
    "\n",
    "-  **Error:** Descripción centrada en qué se hace, sin explicar por qué se usa.  \n",
    "-  **Corrección:** Añadir que se penaliza para controlar la varianza del modelo.  \n",
    "-  **Cómo evitarlo:** Enfocarse en el beneficio o impacto del paso, no solo en su definición técnica.\n",
    "\n",
    "---\n",
    "\n",
    "### 5. ¿Cuál es la relación entre escalamiento y penalización?\n",
    "\n",
    "**Respuesta:**  \n",
    "El escalamiento asegura que todas las variables contribuyan de manera equitativa a la penalización, evitando que una variable domine por tener una mayor escala.\n",
    "\n",
    "**Propósito:**  \n",
    "Permitir que los métodos de regularización penalicen todas las variables proporcionalmente.\n",
    "\n",
    "-  **Error:** Centrado en el procedimiento sin explicar la consecuencia de no escalar.  \n",
    "-  **Corrección:** Enfatizar que la penalización perdería sentido sin escalamiento previo.  \n",
    "-  **Cómo evitarlo:** Identificar las dependencias entre pasos (por ejemplo, escalar antes de regularizar).\n",
    "\n",
    "---\n",
    "\n",
    "### 6. Explica el concepto de una prueba de hipótesis.\n",
    "\n",
    "**Respuesta:**  \n",
    "Una prueba de hipótesis es un procedimiento estadístico que evalúa si una suposición sobre un parámetro poblacional (hipótesis nula) debe ser rechazada con base en la evidencia de una muestra.\n",
    "\n",
    "**Propósito:**  \n",
    "Determinar si un efecto observado podría deberse al azar o si existe evidencia significativa para concluir que hay un efecto real.\n",
    "\n",
    "-  **Error:** Utilicé una definición del libro *ISLP* en vez de la usada en clase.  \n",
    "-  **Corrección:** Debería haberse alineado con la definición explicada en clase para mantener coherencia.  \n",
    "-  **Cómo evitarlo:** Revisar las definiciones discutidas en clase y complementar con otras fuentes solo como apoyo.\n",
    "\n",
    "---\n",
    "\n",
    "### 7. Explica la interpretación de un p-value de una prueba de hipótesis que compara contra una media μ.\n",
    "\n",
    "**Respuesta:**  \n",
    "El p-value es la probabilidad de observar un estadístico tan extremo (o más) que el obtenido, bajo la suposición de que la hipótesis nula es verdadera. En este contexto, mide la probabilidad de observar una diferencia en la media tan grande solo por azar.\n",
    "\n",
    "**Propósito:**  \n",
    "Guiar la decisión de rechazar o no la hipótesis nula, con base en un umbral de significancia (usualmente 0.05).\n",
    "\n",
    "-  **Error:** Me enfoqué excesivamente en la teoría matemática del p-value.  \n",
    "-  **Corrección:** Debí explicar su uso práctico para tomar decisiones estadísticas.  \n",
    "-  **Cómo evitarlo:** Relacionar el p-value con una acción concreta (\"rechazar o no H₀\") en lugar de su definición abstracta.\n",
    "\n",
    "---\n",
    "\n",
    "### 8. Describe el propósito de realizar cross-validation.\n",
    "\n",
    "**Respuesta:**  \n",
    "La validación cruzada divide los datos en múltiples subconjuntos para evaluar el rendimiento del modelo en varios entrenamientos y pruebas.\n",
    "\n",
    "**Propósito:**  \n",
    "Evita depender de una sola división de los datos, mejora la estimación del rendimiento y ayuda a prevenir el sobreajuste.\n",
    "\n",
    "-  **Error:** Descripción centrada en el procedimiento, no en su objetivo.  \n",
    "-  **Corrección:** Debí aclarar que se busca mejorar la capacidad de generalización.  \n",
    "-  **Cómo evitarlo:** Formular siempre una pregunta de “¿qué mejora o evita esta técnica?”\n",
    "\n",
    "**Corrección:**  \n",
    "La respuesta anterior estaba centrada solo en *qué pasos se hacen*, pero no explicaba *por qué* se realizan. Esta versión se basa en el flujo del pipeline visto en clase (esquema en pizarra) e incluye la justificación para cada paso.\n",
    "\n",
    "---\n",
    "\n",
    "### 9. Describe los pasos que seguirías al hacer un análisis exploratorio de datos. Justifica cada paso.\n",
    "\n",
    "**Pasos del análisis y pipeline:**\n",
    "\n",
    "1. **Obtener los datos (`dataset`)**  \n",
    "   - Es el punto de partida. Todo análisis comienza con la recopilación de los datos relevantes para el problema que se desea resolver.\n",
    "\n",
    "2. **Realizar Análisis Exploratorio de Datos (EDA)**  \n",
    "   - Permite conocer la estructura, detectar valores faltantes, outliers y patrones generales. El EDA ayuda a formar hipótesis y guiar decisiones futuras de preprocesamiento.\n",
    "\n",
    "3. **Limpiar los datos (`limpiar`)**  \n",
    "   - Asegura que el modelo no aprenda ruido. Se eliminan o imputan valores faltantes, se corrigen errores y se transforman variables categóricas.\n",
    "\n",
    "4. **Separar en conjunto de entrenamiento y prueba (`train_test_split`)**  \n",
    "   - Permite evaluar la capacidad de generalización del modelo. El entrenamiento ajusta parámetros, mientras que la prueba estima su desempeño en datos nuevos.\n",
    "\n",
    "5. **Escalar las variables (`StandardScaler`)**  \n",
    "   - Modelos que penalizan (como Lasso o Ridge) requieren que las variables estén en la misma escala para aplicar penalizaciones de manera justa.\n",
    "\n",
    "6. **Entrenar el modelo de regresión (`reg → modelo`)**  \n",
    "   - Se ajusta el modelo a los datos de entrenamiento para encontrar patrones y relaciones entre las variables.\n",
    "\n",
    "7. **Hacer predicciones sobre los datos de entrenamiento (`ŷ_train`)**  \n",
    "   - Para evaluar si el modelo aprendió adecuadamente. Sirve también para detectar posibles problemas de sobreajuste si se compara con el desempeño en prueba.\n",
    "\n",
    "8. **Calcular el R² del entrenamiento (`R²_train`)**  \n",
    "   - El coeficiente de determinación mide qué tanto del comportamiento de la variable dependiente se explica con el modelo.\n",
    "\n",
    "9. **Aplicar el modelo a los datos de prueba (`predict → ŷ_test`)**  \n",
    "   - Simula la aplicación del modelo a datos nuevos. Es crucial para verificar si el modelo generaliza.\n",
    "\n",
    "10. **Calcular el R² de prueba (`R²_test`)**  \n",
    "    - Evalúa el rendimiento real del modelo. Una gran diferencia entre R²_train y R²_test puede indicar sobreajuste.\n",
    "\n",
    "---\n",
    "\n",
    "\n",
    "-  **Error:** Enfocado en el orden de pasos, pero sin justificar el porqué de cada uno.  \n",
    "-  **Corrección:** Cada paso debe estar justificado por el valor que aporta al entendimiento de los datos.  \n",
    "-  **Cómo evitarlo:** Al listar pasos, acompañarlos siempre con una frase tipo “esto se hace para...”.\n",
    "\n",
    "\n",
    "### 10. ¿Qué es el teorema del límite central?\n",
    "\n",
    "**Respuesta:**  \n",
    "El teorema del límite central establece que la distribución de las medias muestrales tiende a una distribución normal a medida que el tamaño de la muestra aumenta, incluso si la población original no es normal.\n",
    "\n",
    "**Propósito:**  \n",
    "Permite el uso de métodos inferenciales basados en la normalidad, como intervalos de confianza y pruebas de hipótesis.\n",
    "\n",
    "-  **Error:** Contestar teoría y su uso práctico de manera concisa.  \n",
    "-  **Corrección:** Debí conectar el TCL con su aplicación concreta en inferencia estadística.  \n",
    "-  **Cómo evitarlo:** Conectar teoría y vincular cada concepto con ejemplos reales o aplicaciones..\n"
   ]
  },
  {
   "cell_type": "markdown",
   "id": "8ec5288e-555e-4991-97e2-0493ce50ce78",
   "metadata": {},
   "source": [
    "##  Pregunta 1  \n",
    "**Encontrar la parábola que pasa exactamente por los puntos (1,2), (2,1), (3,2). Utiliza sklearn.**\n",
    "\n",
    "---\n",
    "\n",
    "###  Respuesta corregida:\n",
    "\n",
    "Para encontrar una parábola que pase exactamente por tres puntos, se ajusta un modelo de regresión polinomial de grado 2 usando `PolynomialFeatures`. Este tipo de modelo es suficiente para encontrar una curva cuadrática que pase por tres puntos únicos.\n",
    "\n",
    "---\n",
    "\n",
    "###  Código corregido:\n"
   ]
  },
  {
   "cell_type": "code",
   "execution_count": 10,
   "id": "b4b3ac26-caaf-4405-9b03-10a8e9df567a",
   "metadata": {},
   "outputs": [
    {
     "data": {
      "image/png": "[encoded data removed]",
      "text/plain": [
       "<Figure size 800x500 with 1 Axes>"
      ]
     },
     "metadata": {},
     "output_type": "display_data"
    },
    {
     "name": "stdout",
     "output_type": "stream",
     "text": [
      "Coeficientes: [ 0. -4.  1.]\n",
      "Intercepto: 5.000000000000017\n"
     ]
    }
   ],
   "source": [
    "import numpy as np\n",
    "from sklearn.preprocessing import PolynomialFeatures\n",
    "from sklearn.linear_model import LinearRegression\n",
    "import matplotlib.pyplot as plt\n",
    "\n",
    "X = np.array([1, 2, 3]).reshape(-1, 1)\n",
    "y = np.array([2, 1, 2])\n",
    "\n",
    "poly = PolynomialFeatures(degree=2)\n",
    "X_poly = poly.fit_transform(X)\n",
    "\n",
    "modelo = LinearRegression().fit(X_poly, y)\n",
    "\n",
    "x_range = np.linspace(0.5, 3.5, 100).reshape(-1, 1)\n",
    "x_range_poly = poly.transform(x_range)\n",
    "y_pred = modelo.predict(x_range_poly)\n",
    "\n",
    "plt.figure(figsize=(8,5))\n",
    "plt.scatter(X, y, color=\"red\", label=\"Puntos\")\n",
    "plt.plot(x_range, y_pred, label=\"Parábola ajustada\")\n",
    "plt.title(\"Regresión Polinomial de grado 2\")\n",
    "plt.legend()\n",
    "plt.grid(True)\n",
    "plt.show()\n",
    "\n",
    "print(\"Coeficientes:\", modelo.coef_)\n",
    "print(\"Intercepto:\", modelo.intercept_)\n"
   ]
  },
  {
   "cell_type": "markdown",
   "id": "7b2de66c-8930-4495-b388-15da2267c647",
   "metadata": {},
   "source": [
    "-  **Error:** El código estaba bien estructurado, pero al copiarlo en otra celda o reescribirlo, se reutilizaron variables y no se mostraba correctamente la visualización del ajuste.  \n",
    "-  **Corrección:** Asegurar que:\n",
    "  - Se usen correctamente los datos de entrada.\n",
    "  - Se grafique claramente la curva ajustada.\n",
    " - Se muestre el resultado del modelo (coeficientes e intercepto). \n",
    "-  **Cómo evitarlo:** Ejecutar todo el código en orden y revisar los gráficos. Usar funciones o variables con nombres distintos para evitar conflictos.Validar visualmente si la curva pasa exactamente por los puntos."
   ]
  },
  {
   "cell_type": "markdown",
   "id": "90b63697-b08a-485f-b860-fb421c07f6dc",
   "metadata": {},
   "source": [
    "##  Pregunta 2  \n",
    "**Dado el siguiente código, explica paso por paso por qué se está haciendo cada cosa y cuál es el objetivo.**\n",
    "\n",
    "---\n",
    "\n",
    "###  Respuesta corregida:\n",
    "\n",
    "1. **Importación de librerías**: Se cargan librerías necesarias para manejar datos (`pandas`, `numpy`), entrenar modelos (`LinearRegression`), aplicar escalamiento (`StandardScaler`), crear pipelines (`Pipeline`, `ColumnTransformer`), y evaluar rendimiento (`cross_val_score`, `mean_squared_error`).\n",
    "\n",
    "2. **Carga de datos**: Se carga el dataset de precios de viviendas en California. `X` contiene las características de las viviendas, `y` es el precio medio (target).\n",
    "\n",
    "3. **Transformador numérico**: Se usa `StandardScaler` para escalar los valores numéricos. Esto mejora el desempeño del modelo porque pone todas las variables en la misma escala.\n",
    "\n",
    "4. **ColumnTransformer**: Se usa para aplicar transformaciones solo a las columnas indicadas (en este caso, las numéricas). Es útil cuando se tienen diferentes tipos de variables.\n",
    "\n",
    "5. **Modelo**: Se define el modelo de regresión lineal que será entrenado para predecir el precio medio.\n",
    "\n",
    "6. **Pipeline**: Junta el preprocesamiento con el modelo. Esto permite automatizar todo el flujo y asegurar que las transformaciones siempre se apliquen antes del ajuste del modelo.\n",
    "\n",
    "7. **Validación cruzada**: Se utiliza `cross_val_score` con 10 particiones para obtener una evaluación robusta del modelo. Se calcula el error cuadrático medio como métrica principal.\n",
    "\n",
    "8. **Cálculo de métricas**: Se calcula el promedio y desviación estándar del MSE para conocer la precisión y estabilidad del modelo.\n",
    "\n",
    "---\n",
    "\n",
    "###  ¿Cuál fue el error?\n",
    "\n",
    "Me concentré en explicar qué hace cada línea de código, pero no **por qué** se hace ni cuál es el **objetivo** de cada parte del proceso.\n",
    "\n",
    "---\n",
    "\n",
    "###  ¿Cuál es la corrección?\n",
    "\n",
    "Centrarse en el propósito de cada componente del código, no solo en la operación técnica. Explicar cómo cada paso contribuye al entrenamiento, evaluación o mejora del modelo.\n",
    "\n",
    "---\n",
    "\n",
    "###  ¿Por qué se cometió el error?\n",
    "\n",
    "Por un enfoque superficial al interpretar el código, pensando en repetir lo que hace sin preguntarme **para qué sirve**.\n",
    "\n",
    "---\n",
    "\n",
    "###  ¿Cómo evitar este error en el futuro?\n",
    "\n",
    "- Antes de explicar cada línea, preguntarme: “¿Para qué se hace esto?”\n",
    "- Enfocarme en el objetivo de cada bloque, no solo en la operación puntual.\n",
    "\n"
   ]
  },
  {
   "cell_type": "markdown",
   "id": "266e4810-a316-4f67-a022-8b247aa3259c",
   "metadata": {},
   "source": [
    "##  Pregunta 3  \n",
    "**Entrega un modelo para predecir el \"IMDB_Rating\" de una película dados los factores que consideres adecuados. Calcula los p-values de los factores utilizados. Interpreta tus resultados.**\n",
    "\n",
    "---\n",
    "\n",
    "###  Respuesta corregida:\n",
    "\n",
    "Para predecir el \"IMDB_Rating\", se construyó un modelo de regresión lineal utilizando `statsmodels`, que permite obtener los p-values asociados a cada coeficiente. Se escalaron los factores numéricos y se transformaron los categóricos usando `OneHotEncoder`. A partir del resumen del modelo, se interpretaron los p-values para evaluar la significancia estadística de cada variable explicativa.\n",
    "\n",
    "---\n",
    "\n",
    "###  Código corregido:"
   ]
  },
  {
   "cell_type": "code",
   "execution_count": 125,
   "id": "51c2e815-0206-4901-b74a-36025bd8ab7e",
   "metadata": {},
   "outputs": [],
   "source": [
    "from scipy import stats\n",
    "import pandas as pd\n",
    "import numpy as np\n",
    "from sklearn.linear_model import LinearRegression\n",
    "from sklearn.preprocessing import StandardScaler\n",
    "import statsmodels.api as sm\n",
    "from sklearn.model_selection import train_test_split\n",
    "from sklearn.metrics import r2_score\n",
    "from sklearn.linear_model import Ridge, ElasticNet\n",
    "from sklearn.linear_model import Lasso\n",
    "from sklearn.metrics import mean_squared_error\n",
    "from sklearn.compose import ColumnTransformer"
   ]
  },
  {
   "cell_type": "code",
   "execution_count": 127,
   "id": "d8dc689a-8be0-42a7-8e77-0dcb2705ae31",
   "metadata": {},
   "outputs": [
    {
     "data": {
      "text/html": [
       "<div>\n",
       "<style scoped>\n",
       "    .dataframe tbody tr th:only-of-type {\n",
       "        vertical-align: middle;\n",
       "    }\n",
       "\n",
       "    .dataframe tbody tr th {\n",
       "        vertical-align: top;\n",
       "    }\n",
       "\n",
       "    .dataframe thead th {\n",
       "        text-align: right;\n",
       "    }\n",
       "</style>\n",
       "<table border=\"1\" class=\"dataframe\">\n",
       "  <thead>\n",
       "    <tr style=\"text-align: right;\">\n",
       "      <th></th>\n",
       "      <th>Unnamed: 0</th>\n",
       "      <th>Series_Title</th>\n",
       "      <th>Released_Year</th>\n",
       "      <th>Certificate</th>\n",
       "      <th>Runtime</th>\n",
       "      <th>IMDB_Rating</th>\n",
       "      <th>Meta_score</th>\n",
       "      <th>Director</th>\n",
       "      <th>Gross</th>\n",
       "      <th>Drama</th>\n",
       "      <th>...</th>\n",
       "      <th>Fantasy</th>\n",
       "      <th>Family</th>\n",
       "      <th>Thriller</th>\n",
       "      <th>Romance</th>\n",
       "      <th>Sci-Fi</th>\n",
       "      <th>War</th>\n",
       "      <th>Music</th>\n",
       "      <th>Musical</th>\n",
       "      <th>Sport</th>\n",
       "      <th>History</th>\n",
       "    </tr>\n",
       "  </thead>\n",
       "  <tbody>\n",
       "    <tr>\n",
       "      <th>0</th>\n",
       "      <td>0</td>\n",
       "      <td>The Shawshank Redemption</td>\n",
       "      <td>1994</td>\n",
       "      <td>A</td>\n",
       "      <td>142 min</td>\n",
       "      <td>9.3</td>\n",
       "      <td>80.0</td>\n",
       "      <td>Frank Darabont</td>\n",
       "      <td>28,341,469</td>\n",
       "      <td>1</td>\n",
       "      <td>...</td>\n",
       "      <td>0</td>\n",
       "      <td>0</td>\n",
       "      <td>0</td>\n",
       "      <td>0</td>\n",
       "      <td>0</td>\n",
       "      <td>0</td>\n",
       "      <td>0</td>\n",
       "      <td>0</td>\n",
       "      <td>0</td>\n",
       "      <td>0</td>\n",
       "    </tr>\n",
       "    <tr>\n",
       "      <th>1</th>\n",
       "      <td>1</td>\n",
       "      <td>The Godfather</td>\n",
       "      <td>1972</td>\n",
       "      <td>A</td>\n",
       "      <td>175 min</td>\n",
       "      <td>9.2</td>\n",
       "      <td>100.0</td>\n",
       "      <td>Francis Ford Coppola</td>\n",
       "      <td>134,966,411</td>\n",
       "      <td>1</td>\n",
       "      <td>...</td>\n",
       "      <td>0</td>\n",
       "      <td>0</td>\n",
       "      <td>0</td>\n",
       "      <td>0</td>\n",
       "      <td>0</td>\n",
       "      <td>0</td>\n",
       "      <td>0</td>\n",
       "      <td>0</td>\n",
       "      <td>0</td>\n",
       "      <td>0</td>\n",
       "    </tr>\n",
       "    <tr>\n",
       "      <th>2</th>\n",
       "      <td>2</td>\n",
       "      <td>The Dark Knight</td>\n",
       "      <td>2008</td>\n",
       "      <td>UA</td>\n",
       "      <td>152 min</td>\n",
       "      <td>9.0</td>\n",
       "      <td>84.0</td>\n",
       "      <td>Christopher Nolan</td>\n",
       "      <td>534,858,444</td>\n",
       "      <td>1</td>\n",
       "      <td>...</td>\n",
       "      <td>0</td>\n",
       "      <td>0</td>\n",
       "      <td>0</td>\n",
       "      <td>0</td>\n",
       "      <td>0</td>\n",
       "      <td>0</td>\n",
       "      <td>0</td>\n",
       "      <td>0</td>\n",
       "      <td>0</td>\n",
       "      <td>0</td>\n",
       "    </tr>\n",
       "    <tr>\n",
       "      <th>3</th>\n",
       "      <td>3</td>\n",
       "      <td>The Godfather: Part II</td>\n",
       "      <td>1974</td>\n",
       "      <td>A</td>\n",
       "      <td>202 min</td>\n",
       "      <td>9.0</td>\n",
       "      <td>90.0</td>\n",
       "      <td>Francis Ford Coppola</td>\n",
       "      <td>57,300,000</td>\n",
       "      <td>1</td>\n",
       "      <td>...</td>\n",
       "      <td>0</td>\n",
       "      <td>0</td>\n",
       "      <td>0</td>\n",
       "      <td>0</td>\n",
       "      <td>0</td>\n",
       "      <td>0</td>\n",
       "      <td>0</td>\n",
       "      <td>0</td>\n",
       "      <td>0</td>\n",
       "      <td>0</td>\n",
       "    </tr>\n",
       "    <tr>\n",
       "      <th>4</th>\n",
       "      <td>4</td>\n",
       "      <td>12 Angry Men</td>\n",
       "      <td>1957</td>\n",
       "      <td>U</td>\n",
       "      <td>96 min</td>\n",
       "      <td>9.0</td>\n",
       "      <td>96.0</td>\n",
       "      <td>Sidney Lumet</td>\n",
       "      <td>4,360,000</td>\n",
       "      <td>1</td>\n",
       "      <td>...</td>\n",
       "      <td>0</td>\n",
       "      <td>0</td>\n",
       "      <td>0</td>\n",
       "      <td>0</td>\n",
       "      <td>0</td>\n",
       "      <td>0</td>\n",
       "      <td>0</td>\n",
       "      <td>0</td>\n",
       "      <td>0</td>\n",
       "      <td>0</td>\n",
       "    </tr>\n",
       "  </tbody>\n",
       "</table>\n",
       "<p>5 rows × 30 columns</p>\n",
       "</div>"
      ],
      "text/plain": [
       "   Unnamed: 0              Series_Title Released_Year Certificate  Runtime  \\\n",
       "0           0  The Shawshank Redemption          1994           A  142 min   \n",
       "1           1             The Godfather          1972           A  175 min   \n",
       "2           2           The Dark Knight          2008          UA  152 min   \n",
       "3           3    The Godfather: Part II          1974           A  202 min   \n",
       "4           4              12 Angry Men          1957           U   96 min   \n",
       "\n",
       "   IMDB_Rating  Meta_score              Director        Gross  Drama  ...  \\\n",
       "0          9.3        80.0        Frank Darabont   28,341,469      1  ...   \n",
       "1          9.2       100.0  Francis Ford Coppola  134,966,411      1  ...   \n",
       "2          9.0        84.0     Christopher Nolan  534,858,444      1  ...   \n",
       "3          9.0        90.0  Francis Ford Coppola   57,300,000      1  ...   \n",
       "4          9.0        96.0          Sidney Lumet    4,360,000      1  ...   \n",
       "\n",
       "   Fantasy  Family  Thriller  Romance  Sci-Fi  War  Music  Musical  Sport  \\\n",
       "0        0       0         0        0       0    0      0        0      0   \n",
       "1        0       0         0        0       0    0      0        0      0   \n",
       "2        0       0         0        0       0    0      0        0      0   \n",
       "3        0       0         0        0       0    0      0        0      0   \n",
       "4        0       0         0        0       0    0      0        0      0   \n",
       "\n",
       "   History  \n",
       "0        0  \n",
       "1        0  \n",
       "2        0  \n",
       "3        0  \n",
       "4        0  \n",
       "\n",
       "[5 rows x 30 columns]"
      ]
     },
     "execution_count": 127,
     "metadata": {},
     "output_type": "execute_result"
    }
   ],
   "source": [
    "dataframe = pd.read_csv(\"imdb_top1000_lae.csv\")\n",
    "dataframe.head()"
   ]
  },
  {
   "cell_type": "code",
   "execution_count": 129,
   "id": "274d4374-b0fa-40fe-b93c-367d222e293d",
   "metadata": {},
   "outputs": [],
   "source": [
    "dataframe = dataframe.dropna()\n",
    "dataframe = dataframe.drop(columns = ['Unnamed: 0', 'Series_Title', 'Director', 'Certificate'])"
   ]
  },
  {
   "cell_type": "code",
   "execution_count": 131,
   "id": "4469767c-8465-4356-a8e4-d60a151bf487",
   "metadata": {},
   "outputs": [
    {
     "name": "stdout",
     "output_type": "stream",
     "text": [
      "<class 'pandas.core.frame.DataFrame'>\n",
      "Index: 714 entries, 0 to 997\n",
      "Data columns (total 26 columns):\n",
      " #   Column         Non-Null Count  Dtype  \n",
      "---  ------         --------------  -----  \n",
      " 0   Released_Year  714 non-null    object \n",
      " 1   Runtime        714 non-null    object \n",
      " 2   IMDB_Rating    714 non-null    float64\n",
      " 3   Meta_score     714 non-null    float64\n",
      " 4   Gross          714 non-null    object \n",
      " 5   Drama          714 non-null    int64  \n",
      " 6   Crime          714 non-null    int64  \n",
      " 7   Action         714 non-null    int64  \n",
      " 8   Biography      714 non-null    int64  \n",
      " 9   Western        714 non-null    int64  \n",
      " 10  Comedy         714 non-null    int64  \n",
      " 11  Adventure      714 non-null    int64  \n",
      " 12  Animation      714 non-null    int64  \n",
      " 13  Horror         714 non-null    int64  \n",
      " 14  Mystery        714 non-null    int64  \n",
      " 15  Film-Noir      714 non-null    int64  \n",
      " 16  Fantasy        714 non-null    int64  \n",
      " 17  Family         714 non-null    int64  \n",
      " 18  Thriller       714 non-null    int64  \n",
      " 19  Romance        714 non-null    int64  \n",
      " 20  Sci-Fi         714 non-null    int64  \n",
      " 21  War            714 non-null    int64  \n",
      " 22  Music          714 non-null    int64  \n",
      " 23  Musical        714 non-null    int64  \n",
      " 24  Sport          714 non-null    int64  \n",
      " 25  History        714 non-null    int64  \n",
      "dtypes: float64(2), int64(21), object(3)\n",
      "memory usage: 150.6+ KB\n"
     ]
    }
   ],
   "source": [
    "dataframe.info()"
   ]
  },
  {
   "cell_type": "markdown",
   "id": "45b8c63d-005f-4641-8279-c1ad2e6aa89c",
   "metadata": {},
   "source": [
    "# Modelo 1"
   ]
  },
  {
   "cell_type": "code",
   "execution_count": 134,
   "id": "1b3644c7-ddac-4df9-b9dc-c593f309895a",
   "metadata": {},
   "outputs": [
    {
     "name": "stderr",
     "output_type": "stream",
     "text": [
      "<>:1: SyntaxWarning: invalid escape sequence '\\d'\n",
      "<>:1: SyntaxWarning: invalid escape sequence '\\d'\n",
      "/var/folders/14/1cbq2r590tgfwh0_zmgwzqs00000gn/T/ipykernel_8669/1588120510.py:1: SyntaxWarning: invalid escape sequence '\\d'\n",
      "  dataframe['Runtime'] = dataframe.Runtime.str.extract('(\\d+)')\n"
     ]
    }
   ],
   "source": [
    "dataframe['Runtime'] = dataframe.Runtime.str.extract('(\\d+)')"
   ]
  },
  {
   "cell_type": "code",
   "execution_count": 136,
   "id": "86d797f8-9e52-4e37-8601-115ed356a22e",
   "metadata": {},
   "outputs": [],
   "source": [
    "dataframe['Runtime'] = dataframe['Runtime'].astype(int)\n",
    "dataframe['Gross'] = dataframe['Gross'].str.split(\",\", expand=True)[0].astype(float)"
   ]
  },
  {
   "cell_type": "code",
   "execution_count": 138,
   "id": "2c654313-a0a6-4a6c-a2e0-d809ac43ba5b",
   "metadata": {},
   "outputs": [],
   "source": [
    "dataframe = dataframe[pd.to_numeric(dataframe['Released_Year'], errors='coerce').notnull()]\n",
    "dataframe['Released_Year'] = dataframe['Released_Year'].astype(int)"
   ]
  },
  {
   "cell_type": "code",
   "execution_count": 140,
   "id": "c6d59fe7-8dc0-4cd0-aa77-48cdb3eac518",
   "metadata": {},
   "outputs": [],
   "source": [
    "X = dataframe.drop(columns=['IMDB_Rating'])\n",
    "y = dataframe['IMDB_Rating']\n",
    "\n",
    "X_train, X_test, y_train, y_test = train_test_split(X, y, train_size=.6, random_state=2)"
   ]
  },
  {
   "cell_type": "code",
   "execution_count": 142,
   "id": "3bcf8018-a546-4d74-b102-d4b816ea4e8c",
   "metadata": {},
   "outputs": [],
   "source": [
    "from sklearn.preprocessing import StandardScaler\n",
    "\n",
    "scaler = StandardScaler()\n",
    "scaler.fit(X_train)\n",
    "\n",
    "dataframe = dataframe[pd.to_numeric(dataframe['Released_Year'], errors='coerce').notnull()]\n",
    "dataframe['Released_Year'] = dataframe['Released_Year'].astype(int)\n",
    "\n",
    "X_std_train = scaler.transform(X_train)\n",
    "X_test_std = scaler.transform(X_test)"
   ]
  },
  {
   "cell_type": "code",
   "execution_count": 144,
   "id": "b043d362-4bd1-493b-929c-c88886a0f515",
   "metadata": {},
   "outputs": [
    {
     "name": "stdout",
     "output_type": "stream",
     "text": [
      "0.16170318794893712 0.18063416320614645\n"
     ]
    }
   ],
   "source": [
    "modelo = LinearRegression()\n",
    "\n",
    "modelo.fit(X_std_train, y_train)\n",
    "\n",
    "y_pred_train = modelo.predict(X_std_train)\n",
    "y_pred_test = modelo.predict(X_test_std)\n",
    "\n",
    "r2_train = r2_score(y_train, y_pred_train)\n",
    "r2_test = r2_score(y_test, y_pred_test)\n",
    "\n",
    "print(r2_train, r2_test)"
   ]
  },
  {
   "cell_type": "code",
   "execution_count": 146,
   "id": "c4c92a3d-325d-4cd4-ac9e-d4408c05d977",
   "metadata": {},
   "outputs": [
    {
     "data": {
      "text/plain": [
       "array([-0.04782071,  0.07184892,  0.06196927,  0.01699426,  0.01155773,\n",
       "       -0.0091423 , -0.00106966, -0.01173042, -0.00583217, -0.01889942,\n",
       "        0.00992297,  0.02206433, -0.00693187, -0.01191386,  0.00861852,\n",
       "       -0.01064696, -0.01970685, -0.00569159, -0.01955854,  0.001561  ,\n",
       "       -0.00754349,  0.00208356, -0.01160484, -0.00116632, -0.02343608])"
      ]
     },
     "execution_count": 146,
     "metadata": {},
     "output_type": "execute_result"
    }
   ],
   "source": [
    "modelo.coef_"
   ]
  },
  {
   "cell_type": "code",
   "execution_count": null,
   "id": "e24858f9-a532-4ee3-9bfd-53109472b9c5",
   "metadata": {},
   "outputs": [],
   "source": [
    "\n"
   ]
  },
  {
   "cell_type": "markdown",
   "id": "86441090-7dc2-4f0f-a3e3-f546139cd8ba",
   "metadata": {},
   "source": [
    "# Modelo 2"
   ]
  },
  {
   "cell_type": "code",
   "execution_count": 52,
   "id": "2dfcf051-5f5b-4c8f-86c7-63a39f2b43b4",
   "metadata": {},
   "outputs": [],
   "source": [
    "X = dataframe.drop(columns=['IMDB_Rating'])\n",
    "y = dataframe['IMDB_Rating']\n",
    "\n",
    "X_train, X_test, y_train, y_test = train_test_split(X, y, train_size=.6, random_state=2)"
   ]
  },
  {
   "cell_type": "code",
   "execution_count": 54,
   "id": "ddd1d30e-2b2e-40df-8fbb-f56eb90de3bf",
   "metadata": {},
   "outputs": [],
   "source": [
    "scaler = StandardScaler()\n",
    "scaler.fit(X_train)\n",
    "\n",
    "X_std_train = scaler.transform(X_train)\n",
    "X_test_std = scaler.transform(X_test)"
   ]
  },
  {
   "cell_type": "code",
   "execution_count": 56,
   "id": "1719a078-f73d-4d38-ad2b-a682c3845e55",
   "metadata": {},
   "outputs": [
    {
     "name": "stdout",
     "output_type": "stream",
     "text": [
      "0.16170195315645786 0.18070650589216153\n"
     ]
    }
   ],
   "source": [
    "model = Ridge(alpha=1)\n",
    "\n",
    "model.fit(X_std_train, y_train)\n",
    "\n",
    "y_pred_train = model.predict(X_std_train)\n",
    "y_pred_test = model.predict(X_test_std)\n",
    "\n",
    "r2_train = r2_score(y_train, y_pred_train)\n",
    "r2_test = r2_score(y_test, y_pred_test)\n",
    "\n",
    "print(r2_train, r2_test)"
   ]
  },
  {
   "cell_type": "code",
   "execution_count": 58,
   "id": "323029cd-9841-43ba-932b-9c06a0803ac2",
   "metadata": {},
   "outputs": [
    {
     "name": "stdout",
     "output_type": "stream",
     "text": [
      "0.16167327076584792 0.18096298354442442\n"
     ]
    }
   ],
   "source": [
    "model = Ridge(alpha=5)\n",
    "\n",
    "model.fit(X_std_train, y_train)\n",
    "\n",
    "y_pred_train = model.predict(X_std_train)\n",
    "y_pred_test = model.predict(X_test_std)\n",
    "\n",
    "r2_train = r2_score(y_train, y_pred_train)\n",
    "r2_test = r2_score(y_test, y_pred_test)\n",
    "\n",
    "print(r2_train, r2_test)"
   ]
  },
  {
   "cell_type": "code",
   "execution_count": 60,
   "id": "b0b1e031-43b6-4cff-aa6c-78dda49dd5f9",
   "metadata": {},
   "outputs": [
    {
     "name": "stdout",
     "output_type": "stream",
     "text": [
      "0.16145338657288777 0.18139539842347951\n"
     ]
    }
   ],
   "source": [
    "model = Ridge(alpha=15)\n",
    "\n",
    "model.fit(X_std_train, y_train)\n",
    "\n",
    "y_pred_train = model.predict(X_std_train)\n",
    "y_pred_test = model.predict(X_test_std)\n",
    "\n",
    "r2_train = r2_score(y_train, y_pred_train)\n",
    "r2_test = r2_score(y_test, y_pred_test)\n",
    "\n",
    "print(r2_train, r2_test)"
   ]
  },
  {
   "cell_type": "code",
   "execution_count": 62,
   "id": "0f002137-02b7-4cc3-8a37-cfd90378d815",
   "metadata": {},
   "outputs": [
    {
     "name": "stdout",
     "output_type": "stream",
     "text": [
      "0.16105665612095432 0.1815719372745226\n"
     ]
    }
   ],
   "source": [
    "model = Ridge(alpha=25)\n",
    "\n",
    "model.fit(X_std_train, y_train)\n",
    "\n",
    "y_pred_train = model.predict(X_std_train)\n",
    "y_pred_test = model.predict(X_test_std)\n",
    "\n",
    "r2_train = r2_score(y_train, y_pred_train)\n",
    "r2_test = r2_score(y_test, y_pred_test)\n",
    "\n",
    "print(r2_train, r2_test)"
   ]
  },
  {
   "cell_type": "code",
   "execution_count": 64,
   "id": "c85a1777-18a5-4d09-a92e-1f928e0c6aac",
   "metadata": {},
   "outputs": [
    {
     "data": {
      "text/plain": [
       "array([-0.04460891,  0.06610241,  0.05901394,  0.01655843,  0.01132221,\n",
       "       -0.00801645, -0.00061093, -0.01069773, -0.00411797, -0.01859502,\n",
       "        0.01104399,  0.01951607, -0.00606781, -0.01067072,  0.00867333,\n",
       "       -0.01000136, -0.01804275, -0.00517953, -0.01697461,  0.00165982,\n",
       "       -0.0059886 ,  0.00136769, -0.00930489, -0.00092347, -0.0210084 ])"
      ]
     },
     "execution_count": 64,
     "metadata": {},
     "output_type": "execute_result"
    }
   ],
   "source": [
    "model.coef_"
   ]
  },
  {
   "cell_type": "markdown",
   "id": "aea405c8-59f9-4d25-99a7-525a6244a356",
   "metadata": {},
   "source": [
    "# Modelo 3"
   ]
  },
  {
   "cell_type": "code",
   "execution_count": 69,
   "id": "99a5d143-9d25-445d-84b6-43f2dcee6028",
   "metadata": {},
   "outputs": [],
   "source": [
    "X = dataframe.drop(columns=['IMDB_Rating'])\n",
    "y = dataframe['IMDB_Rating']\n",
    "\n",
    "X_train, X_test, y_train, y_test = train_test_split(X, y, train_size=.6, random_state=2)"
   ]
  },
  {
   "cell_type": "code",
   "execution_count": 71,
   "id": "d8d3b153-7029-4b37-bab3-1d58a16b84f8",
   "metadata": {},
   "outputs": [],
   "source": [
    "scaler = StandardScaler()\n",
    "scaler.fit(X_train)\n",
    "\n",
    "X_std_train = scaler.transform(X_train)\n",
    "X_test_std = scaler.transform(X_test)"
   ]
  },
  {
   "cell_type": "code",
   "execution_count": 73,
   "id": "7ba325f9-a951-43e4-9c3a-35c1d9af4d5e",
   "metadata": {},
   "outputs": [
    {
     "name": "stdout",
     "output_type": "stream",
     "text": [
      "0.0 -0.005128621507318076\n"
     ]
    }
   ],
   "source": [
    "model = ElasticNet(alpha=1)\n",
    "\n",
    "model.fit(X_std_train, y_train)\n",
    "\n",
    "y_pred_train = model.predict(X_std_train)\n",
    "y_pred_test = model.predict(X_test_std)\n",
    "\n",
    "r2_train = r2_score(y_train, y_pred_train)\n",
    "r2_test = r2_score(y_test, y_pred_test)\n",
    "\n",
    "print(r2_train, r2_test)"
   ]
  },
  {
   "cell_type": "code",
   "execution_count": 75,
   "id": "eee168ab-e50b-4015-974a-5f03adbad172",
   "metadata": {},
   "outputs": [
    {
     "name": "stdout",
     "output_type": "stream",
     "text": [
      "0.0 -0.005128621507318076\n"
     ]
    }
   ],
   "source": [
    "model = ElasticNet(alpha=5)\n",
    "\n",
    "model.fit(X_std_train, y_train)\n",
    "\n",
    "y_pred_train = model.predict(X_std_train)\n",
    "y_pred_test = model.predict(X_test_std)\n",
    "\n",
    "r2_train = r2_score(y_train, y_pred_train)\n",
    "r2_test = r2_score(y_test, y_pred_test)\n",
    "\n",
    "print(r2_train, r2_test)"
   ]
  },
  {
   "cell_type": "code",
   "execution_count": 77,
   "id": "f7b5836b-6f36-4442-b140-2f70a2cb1e42",
   "metadata": {},
   "outputs": [
    {
     "data": {
      "text/plain": [
       "array([-0.,  0.,  0.,  0.,  0., -0.,  0., -0.,  0., -0.,  0.,  0., -0.,\n",
       "       -0.,  0., -0., -0., -0., -0.,  0.,  0.,  0.,  0., -0., -0.])"
      ]
     },
     "execution_count": 77,
     "metadata": {},
     "output_type": "execute_result"
    }
   ],
   "source": [
    "model.coef_"
   ]
  },
  {
   "cell_type": "code",
   "execution_count": 79,
   "id": "26829fcc-caf1-482e-b802-407af23dacdc",
   "metadata": {},
   "outputs": [
    {
     "name": "stdout",
     "output_type": "stream",
     "text": [
      "0.0 -0.005128621507318076\n"
     ]
    }
   ],
   "source": [
    "model = ElasticNet(alpha=0.5)\n",
    "\n",
    "model.fit(X_std_train, y_train)\n",
    "\n",
    "y_pred_train = model.predict(X_std_train)\n",
    "y_pred_test = model.predict(X_test_std)\n",
    "\n",
    "r2_train = r2_score(y_train, y_pred_train)\n",
    "r2_test = r2_score(y_test, y_pred_test)\n",
    "\n",
    "print(r2_train, r2_test)"
   ]
  },
  {
   "cell_type": "code",
   "execution_count": 81,
   "id": "29cd6edd-5a22-472b-ac45-afc3a7b5c77b",
   "metadata": {},
   "outputs": [
    {
     "name": "stdout",
     "output_type": "stream",
     "text": [
      "0.15415007948786874 0.19655403074883948\n"
     ]
    }
   ],
   "source": [
    "model = ElasticNet(alpha=0.01)\n",
    "\n",
    "model.fit(X_std_train, y_train)\n",
    "\n",
    "y_pred_train = model.predict(X_std_train)\n",
    "y_pred_test = model.predict(X_test_std)\n",
    "\n",
    "r2_train = r2_score(y_train, y_pred_train)\n",
    "r2_test = r2_score(y_test, y_pred_test)\n",
    "\n",
    "print(r2_train, r2_test)"
   ]
  },
  {
   "cell_type": "code",
   "execution_count": 83,
   "id": "de9bf172-ee21-42ef-801b-5a1c6e4acb0e",
   "metadata": {},
   "outputs": [
    {
     "data": {
      "text/plain": [
       "array([-0.03711498,  0.06449208,  0.05990209,  0.01438746,  0.00356835,\n",
       "       -0.        ,  0.        , -0.00273183, -0.        , -0.01253112,\n",
       "        0.00969179,  0.01414513, -0.        , -0.00566167,  0.00535022,\n",
       "       -0.00337071, -0.0125844 , -0.        , -0.0089696 ,  0.        ,\n",
       "       -0.        , -0.        , -0.00248891,  0.        , -0.01566079])"
      ]
     },
     "execution_count": 83,
     "metadata": {},
     "output_type": "execute_result"
    }
   ],
   "source": [
    "model.coef_"
   ]
  },
  {
   "cell_type": "markdown",
   "id": "210060f3-48e6-4340-ab2b-a24dfc238ded",
   "metadata": {},
   "source": [
    "###  ¿Cuál fue el error?\n",
    "\n",
    "El código estaba bien estructurado, pero al copiarlo en otra celda o reescribirlo, se reutilizaron variables y no se mostraba correctamente la visualización del ajuste. El código también excluía Ridge y ElasticNet.\n",
    "\n",
    "---\n",
    "\n",
    "###  ¿Cuál es la corrección?\n",
    "\n",
    "Asegurar que:\n",
    "\n",
    "Se saquén los p-values\n",
    "\n",
    "Se usen correctamente los datos de entrada.\n",
    "\n",
    "Se grafique claramente la curva ajustada.\n",
    "\n",
    "Se muestre el resultado del modelo (coeficientes e intercepto).\n",
    "\n",
    "Se utilizen 3 modelos.\n",
    "\n",
    "---\n",
    "\n",
    "###  ¿Por qué se cometió el error?\n",
    "\n",
    "Por no revisar que el flujo completo estuviera en una sola celda funcional y al reutilizar variables se sobreescribieron sin querer.\n",
    "\n",
    "---\n",
    "\n",
    "###  ¿Cómo evitar este error en el futuro?\n",
    "\n",
    "Ejecutar todo el código en orden y revisar los gráficos.\n",
    "\n",
    "Usar funciones o variables con nombres distintos para evitar conflictos.\n",
    "\n",
    "Validar visualmente si la curva pasa exactamente por los puntos."
   ]
  },
  {
   "cell_type": "code",
   "execution_count": null,
   "id": "7ed500e6-67ec-4f39-82b0-3560354fea09",
   "metadata": {},
   "outputs": [],
   "source": []
  }
 ],
 "metadata": {
  "kernelspec": {
   "display_name": "Python [conda env:base] *",
   "language": "python",
   "name": "conda-base-py"
  },
  "language_info": {
   "codemirror_mode": {
    "name": "ipython",
    "version": 3
   },
   "file_extension": ".py",
   "mimetype": "text/x-python",
   "name": "python",
   "nbconvert_exporter": "python",
   "pygments_lexer": "ipython3",
   "version": "3.12.7"
  }
 },
 "nbformat": 4,
 "nbformat_minor": 5
}
